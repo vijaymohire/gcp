{
  "cells": [
    {
      "cell_type": "code",
      "id": "5twzCKuuv8k7QhBNknA1nYCj",
      "metadata": {
        "tags": [],
        "id": "5twzCKuuv8k7QhBNknA1nYCj",
        "colab": {
          "base_uri": "https://localhost:8080/",
          "height": 893
        },
        "executionInfo": {
          "status": "ok",
          "timestamp": 1716818382607,
          "user_tz": -330,
          "elapsed": 21266,
          "user": {
            "displayName": "",
            "userId": ""
          }
        },
        "outputId": "2f43a055-763a-4955-8a5b-b50d59b19485"
      },
      "source": [
        "!pip install --upgrade --user google-cloud-aiplatform google-cloud-bigquery"
      ],
      "execution_count": 1,
      "outputs": [
        {
          "output_type": "stream",
          "name": "stdout",
          "text": [
            "Requirement already satisfied: google-cloud-aiplatform in /usr/local/lib/python3.10/dist-packages (1.51.0)\n",
            "Collecting google-cloud-aiplatform\n",
            "  Downloading google_cloud_aiplatform-1.52.0-py2.py3-none-any.whl (5.0 MB)\n",
            "\u001b[2K     \u001b[90m━━━━━━━━━━━━━━━━━━━━━━━━━━━━━━━━━━━━━━━━\u001b[0m \u001b[32m5.0/5.0 MB\u001b[0m \u001b[31m16.8 MB/s\u001b[0m eta \u001b[36m0:00:00\u001b[0m\n",
            "\u001b[?25hRequirement already satisfied: google-cloud-bigquery in /usr/local/lib/python3.10/dist-packages (3.21.0)\n",
            "Collecting google-cloud-bigquery\n",
            "  Downloading google_cloud_bigquery-3.23.1-py2.py3-none-any.whl (237 kB)\n",
            "\u001b[2K     \u001b[90m━━━━━━━━━━━━━━━━━━━━━━━━━━━━━━━━━━━━━━━━\u001b[0m \u001b[32m237.3/237.3 kB\u001b[0m \u001b[31m29.0 MB/s\u001b[0m eta \u001b[36m0:00:00\u001b[0m\n",
            "\u001b[?25hRequirement already satisfied: google-api-core[grpc]!=2.0.*,!=2.1.*,!=2.2.*,!=2.3.*,!=2.4.*,!=2.5.*,!=2.6.*,!=2.7.*,<3.0.0dev,>=1.34.1 in /usr/local/lib/python3.10/dist-packages (from google-cloud-aiplatform) (2.11.1)\n",
            "Requirement already satisfied: google-auth<3.0.0dev,>=2.14.1 in /usr/local/lib/python3.10/dist-packages (from google-cloud-aiplatform) (2.27.0)\n",
            "Requirement already satisfied: proto-plus<2.0.0dev,>=1.22.0 in /usr/local/lib/python3.10/dist-packages (from google-cloud-aiplatform) (1.23.0)\n",
            "Requirement already satisfied: protobuf!=3.20.0,!=3.20.1,!=4.21.0,!=4.21.1,!=4.21.2,!=4.21.3,!=4.21.4,!=4.21.5,<5.0.0dev,>=3.19.5 in /usr/local/lib/python3.10/dist-packages (from google-cloud-aiplatform) (3.20.3)\n",
            "Requirement already satisfied: packaging>=14.3 in /usr/local/lib/python3.10/dist-packages (from google-cloud-aiplatform) (24.0)\n",
            "Requirement already satisfied: google-cloud-storage<3.0.0dev,>=1.32.0 in /usr/local/lib/python3.10/dist-packages (from google-cloud-aiplatform) (2.8.0)\n",
            "Requirement already satisfied: google-cloud-resource-manager<3.0.0dev,>=1.3.3 in /usr/local/lib/python3.10/dist-packages (from google-cloud-aiplatform) (1.12.3)\n",
            "Requirement already satisfied: shapely<3.0.0dev in /usr/local/lib/python3.10/dist-packages (from google-cloud-aiplatform) (2.0.4)\n",
            "Requirement already satisfied: pydantic<3 in /usr/local/lib/python3.10/dist-packages (from google-cloud-aiplatform) (1.10.15)\n",
            "Requirement already satisfied: docstring-parser<1 in /usr/local/lib/python3.10/dist-packages (from google-cloud-aiplatform) (0.16)\n",
            "Requirement already satisfied: google-cloud-core<3.0.0dev,>=1.6.0 in /usr/local/lib/python3.10/dist-packages (from google-cloud-bigquery) (2.3.3)\n",
            "Requirement already satisfied: google-resumable-media<3.0dev,>=0.6.0 in /usr/local/lib/python3.10/dist-packages (from google-cloud-bigquery) (2.7.0)\n",
            "Requirement already satisfied: python-dateutil<3.0dev,>=2.7.2 in /usr/local/lib/python3.10/dist-packages (from google-cloud-bigquery) (2.8.2)\n",
            "Requirement already satisfied: requests<3.0.0dev,>=2.21.0 in /usr/local/lib/python3.10/dist-packages (from google-cloud-bigquery) (2.31.0)\n",
            "Requirement already satisfied: googleapis-common-protos<2.0.dev0,>=1.56.2 in /usr/local/lib/python3.10/dist-packages (from google-api-core[grpc]!=2.0.*,!=2.1.*,!=2.2.*,!=2.3.*,!=2.4.*,!=2.5.*,!=2.6.*,!=2.7.*,<3.0.0dev,>=1.34.1->google-cloud-aiplatform) (1.63.0)\n",
            "Requirement already satisfied: grpcio<2.0dev,>=1.33.2 in /usr/local/lib/python3.10/dist-packages (from google-api-core[grpc]!=2.0.*,!=2.1.*,!=2.2.*,!=2.3.*,!=2.4.*,!=2.5.*,!=2.6.*,!=2.7.*,<3.0.0dev,>=1.34.1->google-cloud-aiplatform) (1.63.0)\n",
            "Requirement already satisfied: grpcio-status<2.0.dev0,>=1.33.2 in /usr/local/lib/python3.10/dist-packages (from google-api-core[grpc]!=2.0.*,!=2.1.*,!=2.2.*,!=2.3.*,!=2.4.*,!=2.5.*,!=2.6.*,!=2.7.*,<3.0.0dev,>=1.34.1->google-cloud-aiplatform) (1.48.2)\n",
            "Requirement already satisfied: cachetools<6.0,>=2.0.0 in /usr/local/lib/python3.10/dist-packages (from google-auth<3.0.0dev,>=2.14.1->google-cloud-aiplatform) (5.3.3)\n",
            "Requirement already satisfied: pyasn1-modules>=0.2.1 in /usr/local/lib/python3.10/dist-packages (from google-auth<3.0.0dev,>=2.14.1->google-cloud-aiplatform) (0.4.0)\n",
            "Requirement already satisfied: rsa<5,>=3.1.4 in /usr/local/lib/python3.10/dist-packages (from google-auth<3.0.0dev,>=2.14.1->google-cloud-aiplatform) (4.9)\n",
            "Requirement already satisfied: grpc-google-iam-v1<1.0.0dev,>=0.12.4 in /usr/local/lib/python3.10/dist-packages (from google-cloud-resource-manager<3.0.0dev,>=1.3.3->google-cloud-aiplatform) (0.13.0)\n",
            "Requirement already satisfied: google-crc32c<2.0dev,>=1.0 in /usr/local/lib/python3.10/dist-packages (from google-resumable-media<3.0dev,>=0.6.0->google-cloud-bigquery) (1.5.0)\n",
            "Requirement already satisfied: typing-extensions>=4.2.0 in /usr/local/lib/python3.10/dist-packages (from pydantic<3->google-cloud-aiplatform) (4.11.0)\n",
            "Requirement already satisfied: six>=1.5 in /usr/local/lib/python3.10/dist-packages (from python-dateutil<3.0dev,>=2.7.2->google-cloud-bigquery) (1.16.0)\n",
            "Requirement already satisfied: charset-normalizer<4,>=2 in /usr/local/lib/python3.10/dist-packages (from requests<3.0.0dev,>=2.21.0->google-cloud-bigquery) (3.3.2)\n",
            "Requirement already satisfied: idna<4,>=2.5 in /usr/local/lib/python3.10/dist-packages (from requests<3.0.0dev,>=2.21.0->google-cloud-bigquery) (3.7)\n",
            "Requirement already satisfied: urllib3<3,>=1.21.1 in /usr/local/lib/python3.10/dist-packages (from requests<3.0.0dev,>=2.21.0->google-cloud-bigquery) (2.0.7)\n",
            "Requirement already satisfied: certifi>=2017.4.17 in /usr/local/lib/python3.10/dist-packages (from requests<3.0.0dev,>=2.21.0->google-cloud-bigquery) (2024.2.2)\n",
            "Requirement already satisfied: numpy<3,>=1.14 in /usr/local/lib/python3.10/dist-packages (from shapely<3.0.0dev->google-cloud-aiplatform) (1.25.2)\n",
            "Requirement already satisfied: pyasn1<0.7.0,>=0.4.6 in /usr/local/lib/python3.10/dist-packages (from pyasn1-modules>=0.2.1->google-auth<3.0.0dev,>=2.14.1->google-cloud-aiplatform) (0.6.0)\n",
            "Installing collected packages: google-cloud-bigquery, google-cloud-aiplatform\n",
            "\u001b[33m  WARNING: The script tb-gcp-uploader is installed in '/root/.local/bin' which is not on PATH.\n",
            "  Consider adding this directory to PATH or, if you prefer to suppress this warning, use --no-warn-script-location.\u001b[0m\u001b[33m\n",
            "\u001b[0mSuccessfully installed google-cloud-aiplatform-1.52.0 google-cloud-bigquery-3.23.1\n"
          ]
        },
        {
          "output_type": "display_data",
          "data": {
            "application/vnd.colab-display-data+json": {
              "pip_warning": {
                "packages": [
                  "google"
                ]
              },
              "id": "a8bbe4885df84626b2ad928c0a64b27c"
            }
          },
          "metadata": {}
        }
      ]
    },
    {
      "cell_type": "code",
      "source": [
        "# Get project ID\n",
        "PROJECT_ID = ! gcloud config get-value project\n",
        "PROJECT_ID = PROJECT_ID[0]\n",
        "LOCATION = \"us-west1\" # @param {type:\"string\"}\n",
        "print(PROJECT_ID)"
      ],
      "metadata": {
        "colab": {
          "base_uri": "https://localhost:8080/"
        },
        "id": "jCZoUJF2WkBz",
        "executionInfo": {
          "status": "ok",
          "timestamp": 1716818448646,
          "user_tz": -330,
          "elapsed": 3493,
          "user": {
            "displayName": "",
            "userId": ""
          }
        },
        "outputId": "89025d09-816e-449d-ec53-2b0cedb9ce7a"
      },
      "id": "jCZoUJF2WkBz",
      "execution_count": 1,
      "outputs": [
        {
          "output_type": "stream",
          "name": "stdout",
          "text": [
            "qwiklabs-gcp-03-db829e6a1f04\n"
          ]
        }
      ]
    },
    {
      "cell_type": "code",
      "source": [
        "from google.cloud import aiplatform\n",
        "aiplatform.init(project=PROJECT_ID, location=LOCATION)\n",
        "\n",
        "print(\"Initialized\")"
      ],
      "metadata": {
        "colab": {
          "base_uri": "https://localhost:8080/"
        },
        "id": "CkzBAQC1WsVT",
        "executionInfo": {
          "status": "ok",
          "timestamp": 1716818474565,
          "user_tz": -330,
          "elapsed": 1754,
          "user": {
            "displayName": "",
            "userId": ""
          }
        },
        "outputId": "44da4190-7ae4-4aed-c89e-6bfa6f021049"
      },
      "id": "CkzBAQC1WsVT",
      "execution_count": 2,
      "outputs": [
        {
          "output_type": "stream",
          "name": "stdout",
          "text": [
            "Initialized\n"
          ]
        }
      ]
    },
    {
      "cell_type": "code",
      "source": [
        "import vertexai\n",
        "from vertexai.preview.generative_models import GenerativeModel, Part\n",
        "\n",
        "def answer_question_gemini(prompt):\n",
        "  model = GenerativeModel(\"gemini-pro\")\n",
        "  response = model.generate_content(\n",
        "    prompt,\n",
        "    generation_config={\n",
        "        \"max_output_tokens\": 8192,\n",
        "        \"temperature\": 0.5,\n",
        "        \"top_p\": 0.5,\n",
        "        \"top_k\": 10,\n",
        "    },\n",
        "  stream=False,\n",
        "  )\n",
        "  try:\n",
        "    return response.text\n",
        "  except:\n",
        "    print(\"An Error Ocuured Cleaning the Data\")\n",
        "    return \"An Error Ocuured Cleaning the Data\""
      ],
      "metadata": {
        "id": "CLsGzLxeWzlC",
        "executionInfo": {
          "status": "ok",
          "timestamp": 1716818508564,
          "user_tz": -330,
          "elapsed": 2174,
          "user": {
            "displayName": "",
            "userId": ""
          }
        }
      },
      "id": "CLsGzLxeWzlC",
      "execution_count": 3,
      "outputs": []
    },
    {
      "cell_type": "code",
      "source": [
        "def run_search(question):\n",
        "  from google.cloud import bigquery\n",
        "\n",
        "  client = bigquery.Client()\n",
        "\n",
        "  sql = \"\"\"\n",
        "      SELECT query.query, base.title, base.body\n",
        "      FROM VECTOR_SEARCH(\n",
        "      TABLE `bbc_news.bbc_news_with_embeddings_table`, 'text_embedding',\n",
        "      (\n",
        "      SELECT text_embedding, content AS query\n",
        "      FROM ML.GENERATE_TEXT_EMBEDDING(MODEL `bbc_news.embedding_model`,\n",
        "          (SELECT @question AS content))),\n",
        "      top_k => 5)\n",
        "      \"\"\"\n",
        "\n",
        "  job_config = bigquery.QueryJobConfig(\n",
        "    query_parameters=[\n",
        "        bigquery.ScalarQueryParameter(\"question\", \"STRING\", question),\n",
        "    ]\n",
        "  )\n",
        "\n",
        "  query_job = client.query(sql, job_config=job_config)\n",
        "\n",
        "  data = \"\"\n",
        "  for row in query_job:\n",
        "    data += row.body + \"\\n\"\n",
        "\n",
        "  return data"
      ],
      "metadata": {
        "id": "fLbdSbXqW5qd",
        "executionInfo": {
          "status": "ok",
          "timestamp": 1716818530064,
          "user_tz": -330,
          "elapsed": 58,
          "user": {
            "displayName": "",
            "userId": ""
          }
        }
      },
      "id": "fLbdSbXqW5qd",
      "execution_count": 4,
      "outputs": []
    },
    {
      "cell_type": "code",
      "source": [
        "def build_prompt(data, question):\n",
        "  prompt = \"\"\"\n",
        "    Instructions: Answer the question using the following Context.\n",
        "\n",
        "    Context: {0}\n",
        "\n",
        "    Question: {1}\n",
        "  \"\"\".format(data, question)\n",
        "  return prompt"
      ],
      "metadata": {
        "id": "tiD72AZ4XA1j",
        "executionInfo": {
          "status": "ok",
          "timestamp": 1716818554863,
          "user_tz": -330,
          "elapsed": 18,
          "user": {
            "displayName": "",
            "userId": ""
          }
        }
      },
      "id": "tiD72AZ4XA1j",
      "execution_count": 5,
      "outputs": []
    },
    {
      "cell_type": "code",
      "source": [
        "from IPython.core.display import display, HTML\n",
        "\n",
        "def answer_question(question):\n",
        "\n",
        "  data = run_search(question)\n",
        "  display(\"Retrieved Data:\")\n",
        "  display(data)\n",
        "  display(\" . . . \")\n",
        "  prompt = build_prompt(data, question)\n",
        "  answer_gemini = answer_question_gemini(prompt)\n",
        "\n",
        "  return answer_gemini"
      ],
      "metadata": {
        "id": "kvn1OKspXGo3",
        "executionInfo": {
          "status": "ok",
          "timestamp": 1716818581519,
          "user_tz": -330,
          "elapsed": 4501,
          "user": {
            "displayName": "",
            "userId": ""
          }
        }
      },
      "id": "kvn1OKspXGo3",
      "execution_count": 6,
      "outputs": []
    },
    {
      "cell_type": "code",
      "source": [
        "QUESTION = \"Tell me about the US Economy\"\n",
        "\n",
        "answer_gemini = answer_question(QUESTION)\n",
        "display(\"User Question:\")\n",
        "display(QUESTION)\n",
        "display(\"--------------------------------\")\n",
        "display(\"Gemini Answer:\")\n",
        "display(answer_gemini)"
      ],
      "metadata": {
        "colab": {
          "base_uri": "https://localhost:8080/",
          "height": 382
        },
        "id": "7h6FKAJtXRb3",
        "executionInfo": {
          "status": "ok",
          "timestamp": 1716818637538,
          "user_tz": -330,
          "elapsed": 9084,
          "user": {
            "displayName": "",
            "userId": ""
          }
        },
        "outputId": "bc4de153-e482-449a-d901-f6d75fc24dad"
      },
      "id": "7h6FKAJtXRb3",
      "execution_count": 7,
      "outputs": [
        {
          "output_type": "display_data",
          "data": {
            "text/plain": [
              "'Retrieved Data:'"
            ],
            "application/vnd.google.colaboratory.intrinsic+json": {
              "type": "string"
            }
          },
          "metadata": {}
        },
        {
          "output_type": "display_data",
          "data": {
            "text/plain": [
              "'Most areas of the US saw their economy continue to expand in December and early January, the US Federal Reserve said in its latest Beige Book report.\\n\\nOf the 12 US regions it identifies for the study, 11 showed stronger economic growth, with only the Cleveland area falling behind with a \"mixed\" rating. Consumer spending was higher in December than November, and festive sales were also up on 2003. The employment picture also improved, the Fed said.\\n\\n\"Labour markets firmed in a number of districts, but wage pressures generally remained modest,\" the Beige Book said. \"Several districts reported higher prices for building materials and manufacturing inputs, but most reported steady or only slightly higher overall price levels.\" The report added that residential real estate activity remained strong and that commercial real estate activity strengthened in most districts. \"Office leasing was especially brisk in Washington DC, and New York City, two of the nation\\'s strongest commercial markets,\" the Fed said.\\n\\nThe US economy has grown more than expected, expanding at an annual rate of 3.8% in the last quarter of 2004.\\n\\nThe gross domestic product figure was ahead of the 3.1% the government estimated a month ago. The rise reflects stronger spending by businesses on capital equipment and a smaller-than-expected trade deficit. GDP is a measure of a country\\'s economic health, reflecting the value of the goods and services it produces.\\n\\nThe new GDP figure, announced by the Commerce Department on Friday, also topped the 3.5% growth rate that economists had forecast ahead of Friday\\'s announcement. Growth was at an annual rate of 4% in the third quarter of 2004 and for the year it came in at 4.4%, the best figure in five years. However, the positive economic climate may lead to a rise in interest rates, with many expecting US rates to rise on 22 March. In the January-to-March quarter, the economy is expected to grow at an annual rate of about 4%, economists forecast. In the final quarter of 2004, businesses increased spending on capital equipment and software by 18%, up from 17.5% in the third quarter. Consumer spending grew 4.2% in the final quarter, down from the third quarter\\'s 5.1%.\\n\\nThe US dollar has continued its record-breaking slide and has tumbled to a new low against the euro.\\n\\nInvestors are betting that the European Central Bank (ECB) will not do anything to weaken the euro, while the US is thought to favour a declining dollar. The US is struggling with a ballooning trade deficit and analysts said one of the easiest ways to fund it was by allowing a depreciation of the dollar. They have predicted that the dollar is likely to fall even further.\\n\\nThe US currency was trading at $1.364 per euro at 1800 GMT on Monday. This compares with $1.354 to the euro in late trading in New York on Friday, which was then a record low.\\n\\nThe dollar has weakened sharply since September when it traded about $1.20 against the euro. It has lost 7% this year, while against the Japanese yen it is down 3.2%. Traders said that thin trading levels had amplified Monday\\'s move. \"It\\'s not going to take much to push [the dollar] one way or the other,\" said Grant Wilson of Mellon Bank. Liquidity - a measure of the number of parties willing to trade in the market - was about half that of a normal working day, traders said.\\n\\nMexican labourers living in the US sent a record $16.6bn (£8.82bn) home last year.\\n\\nThe Bank of Mexico said that remittances grew 24% last year and now represent the country\\'s second-biggest source of income after oil. Better records and greater prosperity of Mexican expatriates in the US are the main reasons behind the increase. About 10 million Mexicans live in the US, where there are 16 million citizens of Mexican origin. Remittances now represent more than 2% of the country\\'s GDP, according to the Bank of Mexico\\'s figures. Last year, there were 50.9 million transactions, with an average value of $327 per remittance, the bank said. According to Standard & Poor\\'s, which has recently upgraded Mexico\\'s sovereign debt rating, the rise in remittances helps protect the Mexican economy against a potential fall in the international oil prices.\\n\\nThe growth in remittances has sparked fierce competition between banks. Bank of America announced last week that it planned to eliminate transfer fees for some customers. Remittance charges are estimated to have dropped by between 50 and 60%, reports from the US Treasury and the Inter-American Development Bank have said. The Inter-American Development Bank estimates that remittances to Latin America and the Caribbean reached $45bn in 2004.\\n\\nUS industrial production increased for the 21st month in a row in February, but at a slower pace than in January, official figures show.\\n\\nThe Institute for Supply Management (ISM) index fell to 55.3 in February, from an adjusted 56.4 in January. Although the index was lower than in January, the fact that it held above 50 shows continued growth in the sector. \"February was another good month in the manufacturing sector,\" said ISM survey chairman Norbert Ore.\\n\\n\"While the overall rate of growth is slowing, the overall picture is improving as price increases and shortages are becoming less of a problem. Exports and imports remain strong,\" he said. Analysts had expected February\\'s figure to be stronger than January\\'s and come in at 57. Of the 20 manufacturing sectors surveyed by ISM, 13 reported growth. They included the textiles, apparel, tobacco, chemicals and transportation sectors. The ISM\\'s index of national manufacturing activity is compiled from the responses of purchasing executives at more than 400 industrial companies.\\n\\n'"
            ],
            "application/vnd.google.colaboratory.intrinsic+json": {
              "type": "string"
            }
          },
          "metadata": {}
        },
        {
          "output_type": "display_data",
          "data": {
            "text/plain": [
              "' . . . '"
            ],
            "application/vnd.google.colaboratory.intrinsic+json": {
              "type": "string"
            }
          },
          "metadata": {}
        },
        {
          "output_type": "display_data",
          "data": {
            "text/plain": [
              "'User Question:'"
            ],
            "application/vnd.google.colaboratory.intrinsic+json": {
              "type": "string"
            }
          },
          "metadata": {}
        },
        {
          "output_type": "display_data",
          "data": {
            "text/plain": [
              "'Tell me about the US Economy'"
            ],
            "application/vnd.google.colaboratory.intrinsic+json": {
              "type": "string"
            }
          },
          "metadata": {}
        },
        {
          "output_type": "display_data",
          "data": {
            "text/plain": [
              "'--------------------------------'"
            ],
            "application/vnd.google.colaboratory.intrinsic+json": {
              "type": "string"
            }
          },
          "metadata": {}
        },
        {
          "output_type": "display_data",
          "data": {
            "text/plain": [
              "'Gemini Answer:'"
            ],
            "application/vnd.google.colaboratory.intrinsic+json": {
              "type": "string"
            }
          },
          "metadata": {}
        },
        {
          "output_type": "display_data",
          "data": {
            "text/plain": [
              "\"## US Economy in 2004: A Summary\\n\\nThe US economy experienced robust growth in 2004, exceeding expectations with a 4.4% annual growth rate. This positive performance was driven by several factors:\\n\\n* **Strong consumer spending:** Consumer spending remained high throughout the year, fueled by strong employment and rising wages.\\n* **Increased business investment:** Businesses significantly increased their spending on capital equipment and software, contributing to the overall economic expansion.\\n* **Strong residential and commercial real estate activity:** Both residential and commercial real estate markets remained robust, with strong demand and rising prices.\\n* **Improved employment picture:** The labor market saw continued improvement, with more jobs created and modest wage growth.\\n\\nHowever, some concerns loomed on the horizon:\\n\\n* **Potential interest rate hikes:** The strong economic performance could lead to interest rate increases, potentially slowing down the economy.\\n* **Weakening dollar:** The US dollar continued its decline against the euro, raising concerns about its impact on the economy.\\n\\nOverall, the US economy in 2004 was in a strong position, but some potential challenges lay ahead.\\n\\n## Additional Points:\\n\\n* The US economy grew at an annual rate of 3.8% in the last quarter of 2004, exceeding the 3.1% estimate.\\n* The GDP figure reflected stronger spending by businesses and a smaller-than-expected trade deficit.\\n* Economists expected the economy to grow at an annual rate of about 4% in the January-to-March quarter.\\n* The US dollar weakened significantly against the euro, reaching a new low of $1.364 per euro.\\n* Mexican laborers living in the US sent a record $16.6 billion home in 2004, representing the country's second-biggest source of income after oil.\\n* US industrial production increased for the 21st month in a row in February, but at a slower pace than in January. \\n\""
            ],
            "application/vnd.google.colaboratory.intrinsic+json": {
              "type": "string"
            }
          },
          "metadata": {}
        }
      ]
    },
    {
      "cell_type": "code",
      "source": [
        "QUESTION = \"What it a good recipe for bouillabaisse\"\n",
        "\n",
        "answer_gemini = answer_question(QUESTION)\n",
        "display(\"User Question:\")\n",
        "display(QUESTION)\n",
        "display(\"--------------------------------\")\n",
        "display(\"Gemini Answer:\")\n",
        "display(answer_gemini)"
      ],
      "metadata": {
        "colab": {
          "base_uri": "https://localhost:8080/",
          "height": 291
        },
        "id": "bb1_2UABXbeq",
        "executionInfo": {
          "status": "ok",
          "timestamp": 1716818690234,
          "user_tz": -330,
          "elapsed": 2562,
          "user": {
            "displayName": "",
            "userId": ""
          }
        },
        "outputId": "9f8b0ee4-1c4c-4d49-e0e3-b1f5f3964193"
      },
      "id": "bb1_2UABXbeq",
      "execution_count": 8,
      "outputs": [
        {
          "output_type": "display_data",
          "data": {
            "text/plain": [
              "'Retrieved Data:'"
            ],
            "application/vnd.google.colaboratory.intrinsic+json": {
              "type": "string"
            }
          },
          "metadata": {}
        },
        {
          "output_type": "display_data",
          "data": {
            "text/plain": [
              "'Iraq is to invite bids for two telephone licences, saying it wants to significantly boost nationwide coverage over the next decade.\\n\\nBids have been invited from local, Arab and foreign companies, Iraq\\'s Ministry of Communications said. The winner will work in partnership with the Iraqi Telecommunications and Post Company (ITPC). The firms will install and operate a fixed phone network, providing voice, fax and internet services.\\n\\nThe ministry said that it wanted to increase Iraq\\'s \"very low telephone service penetration rate from about 4.5% today to about 25% within 10 years.\" It also hopes to develop a \"highly visible and changeable telecommunication sector\". Details of the bidding and tender process will be published on the ministry\\'s website on 9 February. It also is planning a road-show for investors in Amman, Jordan. The ministry said it would base its selection on criteria including the speed of implementation, tariff rates, coverage, and the firm\\'s experience and financial strength.\\n\\nItaly skipper Marco Bortolami believes Saturday\\'s Six Nations contest against Scotland will be a scrappy encounter.\\n\\nWith both sides looking for their first win of the championship, the third-round game at Murrayfield has been billed as a wooden-spoon decider. And Bortolami feels the Edinburgh contest could end up being a bruising battle of the packs. \"It will not be a pretty game because both teams are desperate to gain their first win,\" said the lock forward. Italy have only recorded three wins since they joined the Six Nations in 2000, but two of those have come against Scotland. This year, Italy opened up with a stubborn display against Ireland but ended up losing 28-17.\\n\\nHowever, they were thoroughly outplayed by an impressive Welsh side in Rome last time out. Now the Italians travel to Edinburgh hoping to claim their first away win in the Six Nations. \"Scotland played extremely well against France in Paris but not so well when Ireland came to Edinburgh,\" said Bortolami. \"We are still very disappointed with our last game against Wales in Rome and we are thoroughly determined to right the wrongs. \"As a nation, our quest is to be respected as a team worthy of a place in this tournament and we can only do this by winning games.\"\\n\\nItaly skipper Marco Bortolami believes Saturday\\'s Six Nations contest against Scotland will be a scrappy encounter.\\n\\nWith both sides looking for their first win of the championship, the third-round game at Murrayfield has been billed as a wooden-spoon decider. And Bortolami feels the Edinburgh contest could end up being a bruising battle of the packs. \"It will not be a pretty game because both teams are desperate to gain their first win,\" said the lock forward. Italy have only recorded three wins since they joined the Six Nations in 2000, but two of those have come against Scotland. This year, Italy opened up with a stubborn display against Ireland but ended up losing 28-17.\\n\\nHowever, they were thoroughly outplayed by an impressive Welsh side in Rome last time out. Now the Italians travel to Edinburgh hoping to claim their first away win in the Six Nations. \"Scotland played extremely well against France in Paris but not so well when Ireland came to Edinburgh,\" said Bortolami. \"We are still very disappointed with our last game against Wales in Rome and we are thoroughly determined to right the wrongs. \"As a nation, our quest is to be respected as a team worthy of a place in this tournament and we can only do this by winning games.\"\\n\\nA group of MPs are on a two-day fact-finding mission to Scotland to gather evidence for a report into the UK\\'s fishing industry.\\n\\nMembers of Westminster\\'s environment, food and rural affairs committee will be touring fish markets and talking to fish processors. They will also talk to Fisheries Minister Ross Finnie and scientists. MPs are deciding whether to recommend a new system of \"community quotas\" to conserve fish stocks. The aim is that fishing ports like Peterhead or Fraserburgh would be allocated a quota and local people would decide how to fish it. The scheme is a variation on the local management committees already being established by the European Union.\\n\\nDetails are contained in a Royal Commission report for the UK Government, along with the more controversial idea of closing some mixed fishing grounds completely. Six members of the committee will be in Scotland to seek views from fishermen and processors in Aberdeen and Peterhead. They will also speak to Mr Finnie, representatives of the Royal Society and the Sea Fish Industry Authority. Committee chairman Austin Mitchell said some way has to be found of harvesting mixed fisheries without wasting stocks.\\n\\nLondon Marathon organisers are hoping that banned athlete Susan Chepkemei will still take part in this year\\'s race on 17 April.\\n\\nChepkemei was suspended from all competition until the end of the year by Athletics Kenya after failing to report to a national training camp. \"We are watching it closely,\" said London race director David Bedford. \"There is a long way to go before the race and we are hoping the situation will be satisfactorily resolved.\" The camp in Embu was to prepare for the IAAF World Cross Country Championships later this month. Chepkemei however took part and finished third in last Sunday\\'s world best 10K race in Puerto Rico. The 29-year-old has finished second to Paula Radcliffe in the 2002 and 2003 London races as well as in November\\'s New York City marathon.\\n\\n'"
            ],
            "application/vnd.google.colaboratory.intrinsic+json": {
              "type": "string"
            }
          },
          "metadata": {}
        },
        {
          "output_type": "display_data",
          "data": {
            "text/plain": [
              "' . . . '"
            ],
            "application/vnd.google.colaboratory.intrinsic+json": {
              "type": "string"
            }
          },
          "metadata": {}
        },
        {
          "output_type": "display_data",
          "data": {
            "text/plain": [
              "'User Question:'"
            ],
            "application/vnd.google.colaboratory.intrinsic+json": {
              "type": "string"
            }
          },
          "metadata": {}
        },
        {
          "output_type": "display_data",
          "data": {
            "text/plain": [
              "'What it a good recipe for bouillabaisse'"
            ],
            "application/vnd.google.colaboratory.intrinsic+json": {
              "type": "string"
            }
          },
          "metadata": {}
        },
        {
          "output_type": "display_data",
          "data": {
            "text/plain": [
              "'--------------------------------'"
            ],
            "application/vnd.google.colaboratory.intrinsic+json": {
              "type": "string"
            }
          },
          "metadata": {}
        },
        {
          "output_type": "display_data",
          "data": {
            "text/plain": [
              "'Gemini Answer:'"
            ],
            "application/vnd.google.colaboratory.intrinsic+json": {
              "type": "string"
            }
          },
          "metadata": {}
        },
        {
          "output_type": "display_data",
          "data": {
            "text/plain": [
              "\"I am sorry, but the context provided does not contain any information about a recipe for bouillabaisse. The context is about Iraq inviting bids for telephone licenses, Italy's rugby team, and a group of MPs visiting Scotland.\""
            ],
            "application/vnd.google.colaboratory.intrinsic+json": {
              "type": "string"
            }
          },
          "metadata": {}
        }
      ]
    }
  ],
  "metadata": {
    "kernelspec": {
      "display_name": "Python 3",
      "language": "python",
      "name": "python3"
    },
    "language_info": {
      "codemirror_mode": {
        "name": "ipython",
        "version": 3
      },
      "file_extension": ".py",
      "mimetype": "text/x-python",
      "name": "python",
      "nbconvert_exporter": "python",
      "pygments_lexer": "ipython3",
      "version": "3.10.10"
    },
    "colab": {
      "provenance": [],
      "name": "student-04-da789ca9a25d (May 27, 2024, 7:26:05 PM)"
    }
  },
  "nbformat": 4,
  "nbformat_minor": 5
}