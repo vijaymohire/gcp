{
 "cells": [
  {
   "cell_type": "markdown",
   "metadata": {
    "id": "YuSYVbwEYNHw"
   },
   "source": [
    "# TensorFlow Data Validation (Advanced)"
   ]
  },
  {
   "cell_type": "markdown",
   "metadata": {
    "id": "mPt5BHTwy_0F"
   },
   "source": [
    "## Learning Objectives\n",
    "\n",
    "1. Install TFDV\n",
    "2. Compute and visualize statistics\n",
    "3. Infer a schema\n",
    "4. Check evaluation data for errors\n",
    "5. Check for evaluation anomalies and fix it\n",
    "6. Check for drift and skew\n",
    "7. Freeze the schema\n",
    "\n",
    "\n",
    "\n",
    "## Introduction \n",
    "\n",
    "This notebook illustrates how TensorFlow Data Validation (TFDV) can be used to investigate and visualize your dataset.  That includes looking at descriptive statistics, inferring a schema, checking for and fixing anomalies, and checking for drift and skew in our dataset.  It's important to understand your dataset's characteristics, including how it might change over time in your production pipeline.  It's also important to look for anomalies in your data, and to compare your training, evaluation, and serving datasets to make sure that they're consistent.\n",
    "\n",
    "We'll use data from the [Taxi Trips dataset](https://data.cityofchicago.org/Transportation/Taxi-Trips/wrvz-psew) released by the City of Chicago.\n",
    "\n",
    "Note: This site provides applications using data that has been modified for use from its original source, www.cityofchicago.org, the official website of the City of Chicago. The City of Chicago makes no claims as to the content, accuracy, timeliness, or completeness of any of the data provided at this site. The data provided at this site is subject to change at any time. It is understood that the data provided at this site is being used at one’s own risk.\n",
    "\n",
    "[Read more](https://cloud.google.com/bigquery/public-data/chicago-taxi) about the dataset in [Google BigQuery](https://cloud.google.com/bigquery/). Explore the full dataset in the [BigQuery UI](https://console.cloud.google.com/bigquery?p=bigquery-public-data&d=chicago_taxi_trips&page=dataset).\n",
    "\n",
    "Key Point: As a modeler and developer, think about how this data is used and the potential benefits and harm a model's predictions can cause. A model like this could reinforce societal biases and disparities. Is a feature relevant to the problem you want to solve or will it introduce bias? For more information, read about [ML fairness](https://developers.google.com/machine-learning/fairness-overview/).\n",
    "\n",
    "Each learning objective will correspond to a __#TODO__ in this student lab notebook -- try to complete this notebook first and then review the [Solution Notebook](https://github.com/GoogleCloudPlatform/training-data-analyst/blob/master/courses/machine_learning/deepdive2/production_ml/solutions/tfdv_advanced_taxi.ipynb) for reference. \n"
   ]
  },
  {
   "cell_type": "markdown",
   "metadata": {
    "id": "Fnm6Mj3vTGLm"
   },
   "source": [
    "The columns in the dataset are:\n",
    "<table>\n",
    "<tr><td>pickup_community_area</td><td>fare</td><td>trip_start_month</td></tr>\n",
    "\n",
    "<tr><td>trip_start_hour</td><td>trip_start_day</td><td>trip_start_timestamp</td></tr>\n",
    "<tr><td>pickup_latitude</td><td>pickup_longitude</td><td>dropoff_latitude</td></tr>\n",
    "<tr><td>dropoff_longitude</td><td>trip_miles</td><td>pickup_census_tract</td></tr>\n",
    "<tr><td>dropoff_census_tract</td><td>payment_type</td><td>company</td></tr>\n",
    "<tr><td>trip_seconds</td><td>dropoff_community_area</td><td>tips</td></tr>\n",
    "</table>"
   ]
  },
  {
   "cell_type": "markdown",
   "metadata": {
    "colab_type": "text",
    "id": "AsHg6SD2nO1v"
   },
   "source": [
    "### Install Libraries"
   ]
  },
  {
   "cell_type": "code",
   "execution_count": 1,
   "metadata": {},
   "outputs": [
    {
     "name": "stdout",
     "output_type": "stream",
     "text": [
      "Requirement already satisfied: pyarrow in /opt/conda/lib/python3.9/site-packages (9.0.0)\n",
      "Requirement already satisfied: numpy>=1.16.6 in /opt/conda/lib/python3.9/site-packages (from pyarrow) (1.19.5)\n",
      "Requirement already satisfied: numpy in /opt/conda/lib/python3.9/site-packages (1.19.5)\n",
      "Collecting tensorflow-data-validation\n",
      "  Obtaining dependency information for tensorflow-data-validation from https://files.pythonhosted.org/packages/08/45/c14a8857b2fc0a522991d3914e860f8f0bdf3ee33bcf67077eb397e35af4/tensorflow_data_validation-1.14.0-cp39-cp39-manylinux_2_17_x86_64.manylinux2014_x86_64.whl.metadata\n",
      "  Downloading tensorflow_data_validation-1.14.0-cp39-cp39-manylinux_2_17_x86_64.manylinux2014_x86_64.whl.metadata (18 kB)\n",
      "Requirement already satisfied: absl-py<2.0.0,>=0.9 in /opt/conda/lib/python3.9/site-packages (from tensorflow-data-validation) (0.15.0)\n",
      "Collecting apache-beam[gcp]<3,>=2.47 (from tensorflow-data-validation)\n",
      "  Obtaining dependency information for apache-beam[gcp]<3,>=2.47 from https://files.pythonhosted.org/packages/9c/83/5eeca83114066910e567750ea71e4a92a0be9bf2d937beec29eb718be41b/apache_beam-2.50.0-cp39-cp39-manylinux_2_17_x86_64.manylinux2014_x86_64.whl.metadata\n",
      "  Downloading apache_beam-2.50.0-cp39-cp39-manylinux_2_17_x86_64.manylinux2014_x86_64.whl.metadata (6.0 kB)\n",
      "Requirement already satisfied: joblib>=1.2.0 in /opt/conda/lib/python3.9/site-packages (from tensorflow-data-validation) (1.3.2)\n",
      "Collecting numpy>=1.22.0 (from tensorflow-data-validation)\n",
      "  Obtaining dependency information for numpy>=1.22.0 from https://files.pythonhosted.org/packages/75/cd/7ae0f2cd3fc68aea6cfb2b7e523842e1fa953adb38efabc110d27ba6e423/numpy-1.26.0-cp39-cp39-manylinux_2_17_x86_64.manylinux2014_x86_64.whl.metadata\n",
      "  Downloading numpy-1.26.0-cp39-cp39-manylinux_2_17_x86_64.manylinux2014_x86_64.whl.metadata (58 kB)\n",
      "\u001b[2K     \u001b[90m━━━━━━━━━━━━━━━━━━━━━━━━━━━━━━━━━━━━━━━━\u001b[0m \u001b[32m58.5/58.5 kB\u001b[0m \u001b[31m3.0 MB/s\u001b[0m eta \u001b[36m0:00:00\u001b[0m\n",
      "\u001b[?25hRequirement already satisfied: pandas<2,>=1.0 in /opt/conda/lib/python3.9/site-packages (from tensorflow-data-validation) (1.4.4)\n",
      "Collecting protobuf<5,>=3.20.3 (from tensorflow-data-validation)\n",
      "  Obtaining dependency information for protobuf<5,>=3.20.3 from https://files.pythonhosted.org/packages/bb/c3/6a06208ecf0934ecaf509b51c52a6cf688586f54ae81ac65c56124571494/protobuf-4.24.3-cp37-abi3-manylinux2014_x86_64.whl.metadata\n",
      "  Downloading protobuf-4.24.3-cp37-abi3-manylinux2014_x86_64.whl.metadata (540 bytes)\n",
      "Collecting pyarrow<11,>=10 (from tensorflow-data-validation)\n",
      "  Downloading pyarrow-10.0.1-cp39-cp39-manylinux_2_17_x86_64.manylinux2014_x86_64.whl (35.9 MB)\n",
      "\u001b[2K     \u001b[90m━━━━━━━━━━━━━━━━━━━━━━━━━━━━━━━━━━━━━━━━\u001b[0m \u001b[32m35.9/35.9 MB\u001b[0m \u001b[31m35.5 MB/s\u001b[0m eta \u001b[36m0:00:00\u001b[0m00:01\u001b[0m00:01\u001b[0m\n",
      "\u001b[?25hCollecting pyfarmhash<0.4,>=0.2.2 (from tensorflow-data-validation)\n",
      "  Downloading pyfarmhash-0.3.2.tar.gz (99 kB)\n",
      "\u001b[2K     \u001b[90m━━━━━━━━━━━━━━━━━━━━━━━━━━━━━━━━━━━━━━━━\u001b[0m \u001b[32m99.9/99.9 kB\u001b[0m \u001b[31m13.8 MB/s\u001b[0m eta \u001b[36m0:00:00\u001b[0m\n",
      "\u001b[?25h  Preparing metadata (setup.py) ... \u001b[?25ldone\n",
      "\u001b[?25hRequirement already satisfied: six<2,>=1.12 in /opt/conda/lib/python3.9/site-packages (from tensorflow-data-validation) (1.15.0)\n",
      "Collecting tensorflow<3,>=2.13 (from tensorflow-data-validation)\n",
      "  Obtaining dependency information for tensorflow<3,>=2.13 from https://files.pythonhosted.org/packages/81/16/3aaaf911d8309b9afb29bff97e819c52b011d4ab184c7b01cec92abd018a/tensorflow-2.14.0-cp39-cp39-manylinux_2_17_x86_64.manylinux2014_x86_64.whl.metadata\n",
      "  Downloading tensorflow-2.14.0-cp39-cp39-manylinux_2_17_x86_64.manylinux2014_x86_64.whl.metadata (4.1 kB)\n",
      "Collecting tensorflow-metadata<1.15,>=1.14.0 (from tensorflow-data-validation)\n",
      "  Obtaining dependency information for tensorflow-metadata<1.15,>=1.14.0 from https://files.pythonhosted.org/packages/41/23/3705c7139886c079ef4c0e3be56a5a1fb90e9ee413a4b7caaee0ee0ea6fe/tensorflow_metadata-1.14.0-py3-none-any.whl.metadata\n",
      "  Downloading tensorflow_metadata-1.14.0-py3-none-any.whl.metadata (2.1 kB)\n",
      "Collecting tfx-bsl<1.15,>=1.14.0 (from tensorflow-data-validation)\n",
      "  Obtaining dependency information for tfx-bsl<1.15,>=1.14.0 from https://files.pythonhosted.org/packages/6b/dd/2b5f2ab59ae16b41c8fb42aff42009d8681651a545faa856fa22ab84d7f0/tfx_bsl-1.14.0-cp39-cp39-manylinux_2_17_x86_64.manylinux2014_x86_64.whl.metadata\n",
      "  Downloading tfx_bsl-1.14.0-cp39-cp39-manylinux_2_17_x86_64.manylinux2014_x86_64.whl.metadata (10 kB)\n",
      "Requirement already satisfied: crcmod<2.0,>=1.7 in /opt/conda/lib/python3.9/site-packages (from apache-beam[gcp]<3,>=2.47->tensorflow-data-validation) (1.7)\n",
      "Requirement already satisfied: orjson<4.0 in /opt/conda/lib/python3.9/site-packages (from apache-beam[gcp]<3,>=2.47->tensorflow-data-validation) (3.9.5)\n",
      "Requirement already satisfied: dill<0.3.2,>=0.3.1.1 in /opt/conda/lib/python3.9/site-packages (from apache-beam[gcp]<3,>=2.47->tensorflow-data-validation) (0.3.1.1)\n",
      "Requirement already satisfied: cloudpickle~=2.2.1 in /opt/conda/lib/python3.9/site-packages (from apache-beam[gcp]<3,>=2.47->tensorflow-data-validation) (2.2.1)\n",
      "Requirement already satisfied: fastavro<2,>=0.23.6 in /opt/conda/lib/python3.9/site-packages (from apache-beam[gcp]<3,>=2.47->tensorflow-data-validation) (1.8.2)\n",
      "Requirement already satisfied: fasteners<1.0,>=0.3 in /opt/conda/lib/python3.9/site-packages (from apache-beam[gcp]<3,>=2.47->tensorflow-data-validation) (0.18)\n",
      "Requirement already satisfied: grpcio!=1.48.0,<2,>=1.33.1 in /opt/conda/lib/python3.9/site-packages (from apache-beam[gcp]<3,>=2.47->tensorflow-data-validation) (1.48.1)\n",
      "Requirement already satisfied: hdfs<3.0.0,>=2.1.0 in /opt/conda/lib/python3.9/site-packages (from apache-beam[gcp]<3,>=2.47->tensorflow-data-validation) (2.7.2)\n",
      "Requirement already satisfied: httplib2<0.23.0,>=0.8 in /opt/conda/lib/python3.9/site-packages (from apache-beam[gcp]<3,>=2.47->tensorflow-data-validation) (0.21.0)\n",
      "Collecting numpy>=1.22.0 (from tensorflow-data-validation)\n",
      "  Obtaining dependency information for numpy>=1.22.0 from https://files.pythonhosted.org/packages/7a/7c/d7b2a0417af6428440c0ad7cb9799073e507b1a465f827d058b826236964/numpy-1.24.4-cp39-cp39-manylinux_2_17_x86_64.manylinux2014_x86_64.whl.metadata\n",
      "  Downloading numpy-1.24.4-cp39-cp39-manylinux_2_17_x86_64.manylinux2014_x86_64.whl.metadata (5.6 kB)\n",
      "Requirement already satisfied: objsize<0.7.0,>=0.6.1 in /opt/conda/lib/python3.9/site-packages (from apache-beam[gcp]<3,>=2.47->tensorflow-data-validation) (0.6.1)\n",
      "Requirement already satisfied: pymongo<5.0.0,>=3.8.0 in /opt/conda/lib/python3.9/site-packages (from apache-beam[gcp]<3,>=2.47->tensorflow-data-validation) (3.13.0)\n",
      "Requirement already satisfied: proto-plus<2,>=1.7.1 in /opt/conda/lib/python3.9/site-packages (from apache-beam[gcp]<3,>=2.47->tensorflow-data-validation) (1.22.3)\n",
      "Collecting protobuf<5,>=3.20.3 (from tensorflow-data-validation)\n",
      "  Obtaining dependency information for protobuf<5,>=3.20.3 from https://files.pythonhosted.org/packages/01/cb/445b3e465abdb8042a41957dc8f60c54620dc7540dbcf9b458a921531ca2/protobuf-4.23.4-cp37-abi3-manylinux2014_x86_64.whl.metadata\n",
      "  Downloading protobuf-4.23.4-cp37-abi3-manylinux2014_x86_64.whl.metadata (540 bytes)\n",
      "Requirement already satisfied: pydot<2,>=1.2.0 in /opt/conda/lib/python3.9/site-packages (from apache-beam[gcp]<3,>=2.47->tensorflow-data-validation) (1.4.2)\n",
      "Requirement already satisfied: python-dateutil<3,>=2.8.0 in /opt/conda/lib/python3.9/site-packages (from apache-beam[gcp]<3,>=2.47->tensorflow-data-validation) (2.8.2)\n",
      "Requirement already satisfied: pytz>=2018.3 in /opt/conda/lib/python3.9/site-packages (from apache-beam[gcp]<3,>=2.47->tensorflow-data-validation) (2023.3)\n",
      "Requirement already satisfied: regex>=2020.6.8 in /opt/conda/lib/python3.9/site-packages (from apache-beam[gcp]<3,>=2.47->tensorflow-data-validation) (2023.8.8)\n",
      "Requirement already satisfied: requests<3.0.0,>=2.24.0 in /opt/conda/lib/python3.9/site-packages (from apache-beam[gcp]<3,>=2.47->tensorflow-data-validation) (2.31.0)\n",
      "Requirement already satisfied: typing-extensions>=3.7.0 in /opt/conda/lib/python3.9/site-packages (from apache-beam[gcp]<3,>=2.47->tensorflow-data-validation) (3.10.0.2)\n",
      "Requirement already satisfied: zstandard<1,>=0.18.0 in /opt/conda/lib/python3.9/site-packages (from apache-beam[gcp]<3,>=2.47->tensorflow-data-validation) (0.19.0)\n",
      "Requirement already satisfied: cachetools<6,>=3.1.0 in /opt/conda/lib/python3.9/site-packages (from apache-beam[gcp]<3,>=2.47->tensorflow-data-validation) (4.2.4)\n",
      "Collecting google-api-core<3,>=2.0.0 (from apache-beam[gcp]<3,>=2.47->tensorflow-data-validation)\n",
      "  Obtaining dependency information for google-api-core<3,>=2.0.0 from https://files.pythonhosted.org/packages/4d/ce/4fd62ea66b3508debc795e475336ce915929765870f0ad52328426ba016e/google_api_core-2.12.0-py3-none-any.whl.metadata\n",
      "  Downloading google_api_core-2.12.0-py3-none-any.whl.metadata (2.7 kB)\n",
      "Requirement already satisfied: google-apitools<0.5.32,>=0.5.31 in /opt/conda/lib/python3.9/site-packages (from apache-beam[gcp]<3,>=2.47->tensorflow-data-validation) (0.5.31)\n",
      "Requirement already satisfied: google-auth<3,>=1.18.0 in /opt/conda/lib/python3.9/site-packages (from apache-beam[gcp]<3,>=2.47->tensorflow-data-validation) (1.35.0)\n",
      "Requirement already satisfied: google-auth-httplib2<0.2.0,>=0.1.0 in /opt/conda/lib/python3.9/site-packages (from apache-beam[gcp]<3,>=2.47->tensorflow-data-validation) (0.1.0)\n",
      "Collecting google-cloud-datastore<3,>=2.0.0 (from apache-beam[gcp]<3,>=2.47->tensorflow-data-validation)\n",
      "  Obtaining dependency information for google-cloud-datastore<3,>=2.0.0 from https://files.pythonhosted.org/packages/e6/e3/9e19e26b4fc61aa64a73d097c9e5ce3b4cbb62d7d0ea2c0554b2105b54d6/google_cloud_datastore-2.18.0-py2.py3-none-any.whl.metadata\n",
      "  Downloading google_cloud_datastore-2.18.0-py2.py3-none-any.whl.metadata (5.5 kB)\n",
      "Requirement already satisfied: google-cloud-pubsub<3,>=2.1.0 in /opt/conda/lib/python3.9/site-packages (from apache-beam[gcp]<3,>=2.47->tensorflow-data-validation) (2.18.3)\n",
      "Requirement already satisfied: google-cloud-pubsublite<2,>=1.2.0 in /opt/conda/lib/python3.9/site-packages (from apache-beam[gcp]<3,>=2.47->tensorflow-data-validation) (1.8.3)\n",
      "Requirement already satisfied: google-cloud-bigquery<4,>=2.0.0 in /opt/conda/lib/python3.9/site-packages (from apache-beam[gcp]<3,>=2.47->tensorflow-data-validation) (3.11.4)\n",
      "Requirement already satisfied: google-cloud-bigquery-storage<3,>=2.6.3 in /opt/conda/lib/python3.9/site-packages (from apache-beam[gcp]<3,>=2.47->tensorflow-data-validation) (2.16.2)\n",
      "Requirement already satisfied: google-cloud-core<3,>=2.0.0 in /opt/conda/lib/python3.9/site-packages (from apache-beam[gcp]<3,>=2.47->tensorflow-data-validation) (2.3.3)\n",
      "Collecting google-cloud-bigtable<3,>=2.19.0 (from apache-beam[gcp]<3,>=2.47->tensorflow-data-validation)\n",
      "  Obtaining dependency information for google-cloud-bigtable<3,>=2.19.0 from https://files.pythonhosted.org/packages/f1/2e/fcdd3aed46825c04bc93c0223fff674059e6a789cfda5374948bea1a3f6e/google_cloud_bigtable-2.21.0-py2.py3-none-any.whl.metadata\n",
      "  Downloading google_cloud_bigtable-2.21.0-py2.py3-none-any.whl.metadata (5.1 kB)\n",
      "Requirement already satisfied: google-cloud-spanner<4,>=3.0.0 in /opt/conda/lib/python3.9/site-packages (from apache-beam[gcp]<3,>=2.47->tensorflow-data-validation) (3.40.1)\n",
      "Requirement already satisfied: google-cloud-dlp<4,>=3.0.0 in /opt/conda/lib/python3.9/site-packages (from apache-beam[gcp]<3,>=2.47->tensorflow-data-validation) (3.12.2)\n",
      "Collecting google-cloud-language<3,>=2.0 (from apache-beam[gcp]<3,>=2.47->tensorflow-data-validation)\n",
      "  Obtaining dependency information for google-cloud-language<3,>=2.0 from https://files.pythonhosted.org/packages/19/4c/8a42006ec29f26d1d0f47f5fdebe7138a700eda8e3668d53ffcb55c9a774/google_cloud_language-2.11.1-py2.py3-none-any.whl.metadata\n",
      "  Downloading google_cloud_language-2.11.1-py2.py3-none-any.whl.metadata (5.3 kB)\n",
      "Collecting google-cloud-videointelligence<3,>=2.0 (from apache-beam[gcp]<3,>=2.47->tensorflow-data-validation)\n",
      "  Obtaining dependency information for google-cloud-videointelligence<3,>=2.0 from https://files.pythonhosted.org/packages/ca/0e/ce99f6c36d5e7ccbc5827d714a947da5b864a30e060f2e5dddad4166f663/google_cloud_videointelligence-2.11.4-py2.py3-none-any.whl.metadata\n",
      "  Downloading google_cloud_videointelligence-2.11.4-py2.py3-none-any.whl.metadata (5.6 kB)\n",
      "Requirement already satisfied: google-cloud-vision<4,>=2 in /opt/conda/lib/python3.9/site-packages (from apache-beam[gcp]<3,>=2.47->tensorflow-data-validation) (3.4.4)\n",
      "Requirement already satisfied: google-cloud-recommendations-ai<0.11.0,>=0.1.0 in /opt/conda/lib/python3.9/site-packages (from apache-beam[gcp]<3,>=2.47->tensorflow-data-validation) (0.7.1)\n",
      "Requirement already satisfied: google-cloud-aiplatform<2.0,>=1.26.0 in /opt/conda/lib/python3.9/site-packages (from apache-beam[gcp]<3,>=2.47->tensorflow-data-validation) (1.31.0)\n",
      "Collecting absl-py<2.0.0,>=0.9 (from tensorflow-data-validation)\n",
      "  Downloading absl_py-1.4.0-py3-none-any.whl (126 kB)\n",
      "\u001b[2K     \u001b[90m━━━━━━━━━━━━━━━━━━━━━━━━━━━━━━━━━━━━━━\u001b[0m \u001b[32m126.5/126.5 kB\u001b[0m \u001b[31m17.1 MB/s\u001b[0m eta \u001b[36m0:00:00\u001b[0m\n",
      "\u001b[?25hRequirement already satisfied: astunparse>=1.6.0 in /opt/conda/lib/python3.9/site-packages (from tensorflow<3,>=2.13->tensorflow-data-validation) (1.6.3)\n",
      "Collecting flatbuffers>=23.5.26 (from tensorflow<3,>=2.13->tensorflow-data-validation)\n",
      "  Obtaining dependency information for flatbuffers>=23.5.26 from https://files.pythonhosted.org/packages/6f/12/d5c79ee252793ffe845d58a913197bfa02ae9a0b5c9bc3dc4b58d477b9e7/flatbuffers-23.5.26-py2.py3-none-any.whl.metadata\n",
      "  Downloading flatbuffers-23.5.26-py2.py3-none-any.whl.metadata (850 bytes)\n",
      "Requirement already satisfied: gast!=0.5.0,!=0.5.1,!=0.5.2,>=0.2.1 in /opt/conda/lib/python3.9/site-packages (from tensorflow<3,>=2.13->tensorflow-data-validation) (0.4.0)\n",
      "Requirement already satisfied: google-pasta>=0.1.1 in /opt/conda/lib/python3.9/site-packages (from tensorflow<3,>=2.13->tensorflow-data-validation) (0.2.0)\n",
      "Requirement already satisfied: h5py>=2.9.0 in /opt/conda/lib/python3.9/site-packages (from tensorflow<3,>=2.13->tensorflow-data-validation) (3.1.0)\n",
      "Collecting libclang>=13.0.0 (from tensorflow<3,>=2.13->tensorflow-data-validation)\n",
      "  Obtaining dependency information for libclang>=13.0.0 from https://files.pythonhosted.org/packages/ea/df/55525e489c43f9dbb6c8ea27d8a567b3dcd18a22f3c45483055f5ca6611d/libclang-16.0.6-py2.py3-none-manylinux2010_x86_64.whl.metadata\n",
      "  Downloading libclang-16.0.6-py2.py3-none-manylinux2010_x86_64.whl.metadata (5.2 kB)\n",
      "Collecting ml-dtypes==0.2.0 (from tensorflow<3,>=2.13->tensorflow-data-validation)\n",
      "  Obtaining dependency information for ml-dtypes==0.2.0 from https://files.pythonhosted.org/packages/7b/be/4b211a4e432502c432e3077aa66b0d64f6d7cb4c36613d65c49d9b799919/ml_dtypes-0.2.0-cp39-cp39-manylinux_2_17_x86_64.manylinux2014_x86_64.whl.metadata\n",
      "  Downloading ml_dtypes-0.2.0-cp39-cp39-manylinux_2_17_x86_64.manylinux2014_x86_64.whl.metadata (20 kB)\n",
      "Requirement already satisfied: opt-einsum>=2.3.2 in /opt/conda/lib/python3.9/site-packages (from tensorflow<3,>=2.13->tensorflow-data-validation) (3.3.0)\n",
      "Requirement already satisfied: packaging in /opt/conda/lib/python3.9/site-packages (from tensorflow<3,>=2.13->tensorflow-data-validation) (23.1)\n",
      "Requirement already satisfied: setuptools in /opt/conda/lib/python3.9/site-packages (from tensorflow<3,>=2.13->tensorflow-data-validation) (68.1.2)\n",
      "Requirement already satisfied: termcolor>=1.1.0 in /opt/conda/lib/python3.9/site-packages (from tensorflow<3,>=2.13->tensorflow-data-validation) (1.1.0)\n",
      "Requirement already satisfied: wrapt<1.15,>=1.11.0 in /opt/conda/lib/python3.9/site-packages (from tensorflow<3,>=2.13->tensorflow-data-validation) (1.12.1)\n",
      "Collecting tensorflow-io-gcs-filesystem>=0.23.1 (from tensorflow<3,>=2.13->tensorflow-data-validation)\n",
      "  Obtaining dependency information for tensorflow-io-gcs-filesystem>=0.23.1 from https://files.pythonhosted.org/packages/49/49/fa8224d5da4c81c958503c159bae176cae329f8704bef881d8fd7d99a180/tensorflow_io_gcs_filesystem-0.34.0-cp39-cp39-manylinux_2_12_x86_64.manylinux2010_x86_64.whl.metadata\n",
      "  Downloading tensorflow_io_gcs_filesystem-0.34.0-cp39-cp39-manylinux_2_12_x86_64.manylinux2010_x86_64.whl.metadata (14 kB)\n",
      "Collecting tensorboard<2.15,>=2.14 (from tensorflow<3,>=2.13->tensorflow-data-validation)\n",
      "  Obtaining dependency information for tensorboard<2.15,>=2.14 from https://files.pythonhosted.org/packages/73/a2/66ed644f6ed1562e0285fcd959af17670ea313c8f331c46f79ee77187eb9/tensorboard-2.14.1-py3-none-any.whl.metadata\n",
      "  Downloading tensorboard-2.14.1-py3-none-any.whl.metadata (1.7 kB)\n",
      "Collecting tensorflow-estimator<2.15,>=2.14.0 (from tensorflow<3,>=2.13->tensorflow-data-validation)\n",
      "  Obtaining dependency information for tensorflow-estimator<2.15,>=2.14.0 from https://files.pythonhosted.org/packages/d1/da/4f264c196325bb6e37a6285caec5b12a03def489b57cc1fdac02bb6272cd/tensorflow_estimator-2.14.0-py2.py3-none-any.whl.metadata\n",
      "  Downloading tensorflow_estimator-2.14.0-py2.py3-none-any.whl.metadata (1.3 kB)\n",
      "Collecting keras<2.15,>=2.14.0 (from tensorflow<3,>=2.13->tensorflow-data-validation)\n",
      "  Obtaining dependency information for keras<2.15,>=2.14.0 from https://files.pythonhosted.org/packages/fe/58/34d4d8f1aa11120c2d36d7ad27d0526164b1a8ae45990a2fede31d0e59bf/keras-2.14.0-py3-none-any.whl.metadata\n",
      "  Downloading keras-2.14.0-py3-none-any.whl.metadata (2.4 kB)\n",
      "Requirement already satisfied: googleapis-common-protos<2,>=1.52.0 in /opt/conda/lib/python3.9/site-packages (from tensorflow-metadata<1.15,>=1.14.0->tensorflow-data-validation) (1.60.0)\n",
      "Collecting protobuf<5,>=3.20.3 (from tensorflow-data-validation)\n",
      "  Downloading protobuf-3.20.3-cp39-cp39-manylinux_2_5_x86_64.manylinux1_x86_64.whl (1.0 MB)\n",
      "\u001b[2K     \u001b[90m━━━━━━━━━━━━━━━━━━━━━━━━━━━━━━━━━━━━━━━━\u001b[0m \u001b[32m1.0/1.0 MB\u001b[0m \u001b[31m42.1 MB/s\u001b[0m eta \u001b[36m0:00:00\u001b[0m\n",
      "\u001b[?25hRequirement already satisfied: google-api-python-client<2,>=1.7.11 in /opt/conda/lib/python3.9/site-packages (from tfx-bsl<1.15,>=1.14.0->tensorflow-data-validation) (1.8.0)\n",
      "Collecting tensorflow-serving-api<3,>=2.13.0 (from tfx-bsl<1.15,>=1.14.0->tensorflow-data-validation)\n",
      "  Obtaining dependency information for tensorflow-serving-api<3,>=2.13.0 from https://files.pythonhosted.org/packages/14/d7/11e3d0a3f6c50a38e05550be85e35ca1f1bfd85219977b18694367c5688f/tensorflow_serving_api-2.13.1-py2.py3-none-any.whl.metadata\n",
      "  Downloading tensorflow_serving_api-2.13.1-py2.py3-none-any.whl.metadata (1.8 kB)\n",
      "Requirement already satisfied: wheel<1.0,>=0.23.0 in /opt/conda/lib/python3.9/site-packages (from astunparse>=1.6.0->tensorflow<3,>=2.13->tensorflow-data-validation) (0.41.2)\n",
      "Collecting google-auth<3,>=1.18.0 (from apache-beam[gcp]<3,>=2.47->tensorflow-data-validation)\n",
      "  Obtaining dependency information for google-auth<3,>=1.18.0 from https://files.pythonhosted.org/packages/d7/88/1826b0c047c48763b36ed854a984127b430a16b70003155d7b19975f1d59/google_auth-2.23.2-py2.py3-none-any.whl.metadata\n",
      "  Downloading google_auth-2.23.2-py2.py3-none-any.whl.metadata (4.2 kB)\n",
      "INFO: pip is looking at multiple versions of google-api-python-client to determine which version is compatible with other requirements. This could take a while.\n",
      "Collecting google-api-python-client<2,>=1.7.11 (from tfx-bsl<1.15,>=1.14.0->tensorflow-data-validation)\n",
      "  Downloading google_api_python_client-1.12.11-py2.py3-none-any.whl (62 kB)\n",
      "\u001b[2K     \u001b[90m━━━━━━━━━━━━━━━━━━━━━━━━━━━━━━━━━━━━━━━━\u001b[0m \u001b[32m62.1/62.1 kB\u001b[0m \u001b[31m8.5 MB/s\u001b[0m eta \u001b[36m0:00:00\u001b[0m\n",
      "\u001b[?25hRequirement already satisfied: uritemplate<4dev,>=3.0.0 in /opt/conda/lib/python3.9/site-packages (from google-api-python-client<2,>=1.7.11->tfx-bsl<1.15,>=1.14.0->tensorflow-data-validation) (3.0.1)\n",
      "Requirement already satisfied: oauth2client>=1.4.12 in /opt/conda/lib/python3.9/site-packages (from google-apitools<0.5.32,>=0.5.31->apache-beam[gcp]<3,>=2.47->tensorflow-data-validation) (4.1.3)\n",
      "Requirement already satisfied: pyasn1-modules>=0.2.1 in /opt/conda/lib/python3.9/site-packages (from google-auth<3,>=1.18.0->apache-beam[gcp]<3,>=2.47->tensorflow-data-validation) (0.2.7)\n",
      "Requirement already satisfied: rsa<5,>=3.1.4 in /opt/conda/lib/python3.9/site-packages (from google-auth<3,>=1.18.0->apache-beam[gcp]<3,>=2.47->tensorflow-data-validation) (4.9)\n",
      "Requirement already satisfied: google-api-core[grpc]!=2.0.*,!=2.1.*,!=2.2.*,!=2.3.*,!=2.4.*,!=2.5.*,!=2.6.*,!=2.7.*,<3.0.0dev,>=1.32.0 in /opt/conda/lib/python3.9/site-packages (from google-cloud-aiplatform<2.0,>=1.26.0->apache-beam[gcp]<3,>=2.47->tensorflow-data-validation) (1.34.0)\n",
      "Requirement already satisfied: google-cloud-storage<3.0.0dev,>=1.32.0 in /opt/conda/lib/python3.9/site-packages (from google-cloud-aiplatform<2.0,>=1.26.0->apache-beam[gcp]<3,>=2.47->tensorflow-data-validation) (2.10.0)\n",
      "Requirement already satisfied: google-cloud-resource-manager<3.0.0dev,>=1.3.3 in /opt/conda/lib/python3.9/site-packages (from google-cloud-aiplatform<2.0,>=1.26.0->apache-beam[gcp]<3,>=2.47->tensorflow-data-validation) (1.10.3)\n",
      "Requirement already satisfied: shapely<2.0.0 in /opt/conda/lib/python3.9/site-packages (from google-cloud-aiplatform<2.0,>=1.26.0->apache-beam[gcp]<3,>=2.47->tensorflow-data-validation) (1.8.5.post1)\n",
      "Requirement already satisfied: google-resumable-media<3.0dev,>=0.6.0 in /opt/conda/lib/python3.9/site-packages (from google-cloud-bigquery<4,>=2.0.0->apache-beam[gcp]<3,>=2.47->tensorflow-data-validation) (2.5.0)\n",
      "Requirement already satisfied: grpc-google-iam-v1<1.0.0dev,>=0.12.4 in /opt/conda/lib/python3.9/site-packages (from google-cloud-bigtable<3,>=2.19.0->apache-beam[gcp]<3,>=2.47->tensorflow-data-validation) (0.12.6)\n",
      "Collecting grpcio!=1.48.0,<2,>=1.33.1 (from apache-beam[gcp]<3,>=2.47->tensorflow-data-validation)\n",
      "  Obtaining dependency information for grpcio!=1.48.0,<2,>=1.33.1 from https://files.pythonhosted.org/packages/d1/a1/adf44cb808bcda1997d8afb3033b4fd503f6f5e89a6d3eeb454cb84c8abc/grpcio-1.59.0-cp39-cp39-manylinux_2_17_x86_64.manylinux2014_x86_64.whl.metadata\n",
      "  Downloading grpcio-1.59.0-cp39-cp39-manylinux_2_17_x86_64.manylinux2014_x86_64.whl.metadata (4.0 kB)\n",
      "Requirement already satisfied: grpcio-status>=1.33.2 in /opt/conda/lib/python3.9/site-packages (from google-cloud-pubsub<3,>=2.1.0->apache-beam[gcp]<3,>=2.47->tensorflow-data-validation) (1.48.1)\n",
      "Requirement already satisfied: overrides<7.0.0,>=6.0.1 in /opt/conda/lib/python3.9/site-packages (from google-cloud-pubsublite<2,>=1.2.0->apache-beam[gcp]<3,>=2.47->tensorflow-data-validation) (6.5.0)\n",
      "Requirement already satisfied: sqlparse>=0.4.4 in /opt/conda/lib/python3.9/site-packages (from google-cloud-spanner<4,>=3.0.0->apache-beam[gcp]<3,>=2.47->tensorflow-data-validation) (0.4.4)\n",
      "Requirement already satisfied: docopt in /opt/conda/lib/python3.9/site-packages (from hdfs<3.0.0,>=2.1.0->apache-beam[gcp]<3,>=2.47->tensorflow-data-validation) (0.6.2)\n",
      "Requirement already satisfied: pyparsing!=3.0.0,!=3.0.1,!=3.0.2,!=3.0.3,<4,>=2.4.2 in /opt/conda/lib/python3.9/site-packages (from httplib2<0.23.0,>=0.8->apache-beam[gcp]<3,>=2.47->tensorflow-data-validation) (3.1.1)\n",
      "Requirement already satisfied: charset-normalizer<4,>=2 in /opt/conda/lib/python3.9/site-packages (from requests<3.0.0,>=2.24.0->apache-beam[gcp]<3,>=2.47->tensorflow-data-validation) (3.2.0)\n",
      "Requirement already satisfied: idna<4,>=2.5 in /opt/conda/lib/python3.9/site-packages (from requests<3.0.0,>=2.24.0->apache-beam[gcp]<3,>=2.47->tensorflow-data-validation) (3.4)\n",
      "Requirement already satisfied: urllib3<3,>=1.21.1 in /opt/conda/lib/python3.9/site-packages (from requests<3.0.0,>=2.24.0->apache-beam[gcp]<3,>=2.47->tensorflow-data-validation) (1.26.15)\n",
      "Requirement already satisfied: certifi>=2017.4.17 in /opt/conda/lib/python3.9/site-packages (from requests<3.0.0,>=2.24.0->apache-beam[gcp]<3,>=2.47->tensorflow-data-validation) (2023.7.22)\n",
      "Collecting google-auth-oauthlib<1.1,>=0.5 (from tensorboard<2.15,>=2.14->tensorflow<3,>=2.13->tensorflow-data-validation)\n",
      "  Downloading google_auth_oauthlib-1.0.0-py2.py3-none-any.whl (18 kB)\n",
      "Requirement already satisfied: markdown>=2.6.8 in /opt/conda/lib/python3.9/site-packages (from tensorboard<2.15,>=2.14->tensorflow<3,>=2.13->tensorflow-data-validation) (3.4.4)\n",
      "Collecting tensorboard-data-server<0.8.0,>=0.7.0 (from tensorboard<2.15,>=2.14->tensorflow<3,>=2.13->tensorflow-data-validation)\n",
      "  Obtaining dependency information for tensorboard-data-server<0.8.0,>=0.7.0 from https://files.pythonhosted.org/packages/02/52/fb9e51fba47951aabd7a6b25e41d73eae94208ccf62d886168096941a781/tensorboard_data_server-0.7.1-py3-none-manylinux2014_x86_64.whl.metadata\n",
      "  Downloading tensorboard_data_server-0.7.1-py3-none-manylinux2014_x86_64.whl.metadata (1.1 kB)\n",
      "Requirement already satisfied: werkzeug>=1.0.1 in /opt/conda/lib/python3.9/site-packages (from tensorboard<2.15,>=2.14->tensorflow<3,>=2.13->tensorflow-data-validation) (2.3.7)\n",
      "INFO: pip is looking at multiple versions of google-api-core[grpc] to determine which version is compatible with other requirements. This could take a while.\n",
      "Requirement already satisfied: requests-oauthlib>=0.7.0 in /opt/conda/lib/python3.9/site-packages (from google-auth-oauthlib<1.1,>=0.5->tensorboard<2.15,>=2.14->tensorflow<3,>=2.13->tensorflow-data-validation) (1.3.1)\n",
      "Requirement already satisfied: google-crc32c<2.0dev,>=1.0 in /opt/conda/lib/python3.9/site-packages (from google-resumable-media<3.0dev,>=0.6.0->google-cloud-bigquery<4,>=2.0.0->apache-beam[gcp]<3,>=2.47->tensorflow-data-validation) (1.5.0)\n",
      "Requirement already satisfied: importlib-metadata>=4.4 in /opt/conda/lib/python3.9/site-packages (from markdown>=2.6.8->tensorboard<2.15,>=2.14->tensorflow<3,>=2.13->tensorflow-data-validation) (6.8.0)\n",
      "Requirement already satisfied: pyasn1>=0.1.7 in /opt/conda/lib/python3.9/site-packages (from oauth2client>=1.4.12->google-apitools<0.5.32,>=0.5.31->apache-beam[gcp]<3,>=2.47->tensorflow-data-validation) (0.4.8)\n",
      "Requirement already satisfied: MarkupSafe>=2.1.1 in /opt/conda/lib/python3.9/site-packages (from werkzeug>=1.0.1->tensorboard<2.15,>=2.14->tensorflow<3,>=2.13->tensorflow-data-validation) (2.1.3)\n",
      "Requirement already satisfied: zipp>=0.5 in /opt/conda/lib/python3.9/site-packages (from importlib-metadata>=4.4->markdown>=2.6.8->tensorboard<2.15,>=2.14->tensorflow<3,>=2.13->tensorflow-data-validation) (3.16.2)\n",
      "Requirement already satisfied: oauthlib>=3.0.0 in /opt/conda/lib/python3.9/site-packages (from requests-oauthlib>=0.7.0->google-auth-oauthlib<1.1,>=0.5->tensorboard<2.15,>=2.14->tensorflow<3,>=2.13->tensorflow-data-validation) (3.2.2)\n",
      "Downloading tensorflow_data_validation-1.14.0-cp39-cp39-manylinux_2_17_x86_64.manylinux2014_x86_64.whl (19.1 MB)\n",
      "\u001b[2K   \u001b[90m━━━━━━━━━━━━━━━━━━━━━━━━━━━━━━━━━━━━━━━━\u001b[0m \u001b[32m19.1/19.1 MB\u001b[0m \u001b[31m56.3 MB/s\u001b[0m eta \u001b[36m0:00:00\u001b[0m:00:01\u001b[0m00:01\u001b[0m\n",
      "\u001b[?25hDownloading numpy-1.24.4-cp39-cp39-manylinux_2_17_x86_64.manylinux2014_x86_64.whl (17.3 MB)\n",
      "\u001b[2K   \u001b[90m━━━━━━━━━━━━━━━━━━━━━━━━━━━━━━━━━━━━━━━━\u001b[0m \u001b[32m17.3/17.3 MB\u001b[0m \u001b[31m63.7 MB/s\u001b[0m eta \u001b[36m0:00:00\u001b[0m:00:01\u001b[0m00:01\u001b[0m\n",
      "\u001b[?25hDownloading tensorflow-2.14.0-cp39-cp39-manylinux_2_17_x86_64.manylinux2014_x86_64.whl (489.8 MB)\n",
      "\u001b[2K   \u001b[90m━━━━━━━━━━━━━━━━━━━━━━━━━━━━━━━━━━━━━━━━\u001b[0m \u001b[32m489.8/489.8 MB\u001b[0m \u001b[31m1.2 MB/s\u001b[0m eta \u001b[36m0:00:00\u001b[0m:00:01\u001b[0m00:01\u001b[0m\n",
      "\u001b[?25hDownloading ml_dtypes-0.2.0-cp39-cp39-manylinux_2_17_x86_64.manylinux2014_x86_64.whl (1.0 MB)\n",
      "\u001b[2K   \u001b[90m━━━━━━━━━━━━━━━━━━━━━━━━━━━━━━━━━━━━━━━━\u001b[0m \u001b[32m1.0/1.0 MB\u001b[0m \u001b[31m2.1 MB/s\u001b[0m eta \u001b[36m0:00:00\u001b[0m0:00:01\u001b[0m\n",
      "\u001b[?25hDownloading tensorflow_metadata-1.14.0-py3-none-any.whl (28 kB)\n",
      "Downloading tfx_bsl-1.14.0-cp39-cp39-manylinux_2_17_x86_64.manylinux2014_x86_64.whl (22.5 MB)\n",
      "\u001b[2K   \u001b[90m━━━━━━━━━━━━━━━━━━━━━━━━━━━━━━━━━━━━━━━━\u001b[0m \u001b[32m22.5/22.5 MB\u001b[0m \u001b[31m45.2 MB/s\u001b[0m eta \u001b[36m0:00:00\u001b[0m:00:01\u001b[0m00:01\u001b[0m\n",
      "\u001b[?25hDownloading flatbuffers-23.5.26-py2.py3-none-any.whl (26 kB)\n",
      "Downloading google_api_core-2.12.0-py3-none-any.whl (121 kB)\n",
      "\u001b[2K   \u001b[90m━━━━━━━━━━━━━━━━━━━━━━━━━━━━━━━━━━━━━━━━\u001b[0m \u001b[32m121.4/121.4 kB\u001b[0m \u001b[31m17.1 MB/s\u001b[0m eta \u001b[36m0:00:00\u001b[0m\n",
      "\u001b[?25hDownloading google_auth-2.23.2-py2.py3-none-any.whl (181 kB)\n",
      "\u001b[2K   \u001b[90m━━━━━━━━━━━━━━━━━━━━━━━━━━━━━━━━━━━━━━━━\u001b[0m \u001b[32m182.0/182.0 kB\u001b[0m \u001b[31m22.1 MB/s\u001b[0m eta \u001b[36m0:00:00\u001b[0m\n",
      "\u001b[?25hDownloading google_cloud_bigtable-2.21.0-py2.py3-none-any.whl (293 kB)\n",
      "\u001b[2K   \u001b[90m━━━━━━━━━━━━━━━━━━━━━━━━━━━━━━━━━━━━━━━━\u001b[0m \u001b[32m293.0/293.0 kB\u001b[0m \u001b[31m33.6 MB/s\u001b[0m eta \u001b[36m0:00:00\u001b[0m\n",
      "\u001b[?25hDownloading google_cloud_datastore-2.18.0-py2.py3-none-any.whl (177 kB)\n",
      "\u001b[2K   \u001b[90m━━━━━━━━━━━━━━━━━━━━━━━━━━━━━━━━━━━━━━━━\u001b[0m \u001b[32m177.3/177.3 kB\u001b[0m \u001b[31m24.4 MB/s\u001b[0m eta \u001b[36m0:00:00\u001b[0m\n",
      "\u001b[?25hDownloading google_cloud_language-2.11.1-py2.py3-none-any.whl (138 kB)\n",
      "\u001b[2K   \u001b[90m━━━━━━━━━━━━━━━━━━━━━━━━━━━━━━━━━━━━━━━━\u001b[0m \u001b[32m138.7/138.7 kB\u001b[0m \u001b[31m20.2 MB/s\u001b[0m eta \u001b[36m0:00:00\u001b[0m\n",
      "\u001b[?25hDownloading google_cloud_videointelligence-2.11.4-py2.py3-none-any.whl (229 kB)\n",
      "\u001b[2K   \u001b[90m━━━━━━━━━━━━━━━━━━━━━━━━━━━━━━━━━━━━━━━━\u001b[0m \u001b[32m229.5/229.5 kB\u001b[0m \u001b[31m24.7 MB/s\u001b[0m eta \u001b[36m0:00:00\u001b[0m\n",
      "\u001b[?25hDownloading grpcio-1.59.0-cp39-cp39-manylinux_2_17_x86_64.manylinux2014_x86_64.whl (5.3 MB)\n",
      "\u001b[2K   \u001b[90m━━━━━━━━━━━━━━━━━━━━━━━━━━━━━━━━━━━━━━━━\u001b[0m \u001b[32m5.3/5.3 MB\u001b[0m \u001b[31m67.8 MB/s\u001b[0m eta \u001b[36m0:00:00\u001b[0m:00:01\u001b[0m00:01\u001b[0m\n",
      "\u001b[?25hDownloading keras-2.14.0-py3-none-any.whl (1.7 MB)\n",
      "\u001b[2K   \u001b[90m━━━━━━━━━━━━━━━━━━━━━━━━━━━━━━━━━━━━━━━━\u001b[0m \u001b[32m1.7/1.7 MB\u001b[0m \u001b[31m64.1 MB/s\u001b[0m eta \u001b[36m0:00:00\u001b[0m\n",
      "\u001b[?25hDownloading libclang-16.0.6-py2.py3-none-manylinux2010_x86_64.whl (22.9 MB)\n",
      "\u001b[2K   \u001b[90m━━━━━━━━━━━━━━━━━━━━━━━━━━━━━━━━━━━━━━━━\u001b[0m \u001b[32m22.9/22.9 MB\u001b[0m \u001b[31m58.4 MB/s\u001b[0m eta \u001b[36m0:00:00\u001b[0m:00:01\u001b[0m00:01\u001b[0m\n",
      "\u001b[?25hDownloading tensorboard-2.14.1-py3-none-any.whl (5.5 MB)\n",
      "\u001b[2K   \u001b[90m━━━━━━━━━━━━━━━━━━━━━━━━━━━━━━━━━━━━━━━━\u001b[0m \u001b[32m5.5/5.5 MB\u001b[0m \u001b[31m81.6 MB/s\u001b[0m eta \u001b[36m0:00:00\u001b[0m:00:01\u001b[0m\n",
      "\u001b[?25hDownloading tensorflow_estimator-2.14.0-py2.py3-none-any.whl (440 kB)\n",
      "\u001b[2K   \u001b[90m━━━━━━━━━━━━━━━━━━━━━━━━━━━━━━━━━━━━━━━━\u001b[0m \u001b[32m440.7/440.7 kB\u001b[0m \u001b[31m39.5 MB/s\u001b[0m eta \u001b[36m0:00:00\u001b[0m\n",
      "\u001b[?25hDownloading tensorflow_io_gcs_filesystem-0.34.0-cp39-cp39-manylinux_2_12_x86_64.manylinux2010_x86_64.whl (2.4 MB)\n",
      "\u001b[2K   \u001b[90m━━━━━━━━━━━━━━━━━━━━━━━━━━━━━━━━━━━━━━━━\u001b[0m \u001b[32m2.4/2.4 MB\u001b[0m \u001b[31m75.8 MB/s\u001b[0m eta \u001b[36m0:00:00\u001b[0m\n",
      "\u001b[?25hDownloading tensorflow_serving_api-2.13.1-py2.py3-none-any.whl (26 kB)\n",
      "Downloading apache_beam-2.50.0-cp39-cp39-manylinux_2_17_x86_64.manylinux2014_x86_64.whl (14.9 MB)\n",
      "\u001b[2K   \u001b[90m━━━━━━━━━━━━━━━━━━━━━━━━━━━━━━━━━━━━━━━━\u001b[0m \u001b[32m14.9/14.9 MB\u001b[0m \u001b[31m73.7 MB/s\u001b[0m eta \u001b[36m0:00:00\u001b[0m:00:01\u001b[0m00:01\u001b[0m\n",
      "\u001b[?25hDownloading tensorboard_data_server-0.7.1-py3-none-manylinux2014_x86_64.whl (6.6 MB)\n",
      "\u001b[2K   \u001b[90m━━━━━━━━━━━━━━━━━━━━━━━━━━━━━━━━━━━━━━━━\u001b[0m \u001b[32m6.6/6.6 MB\u001b[0m \u001b[31m83.5 MB/s\u001b[0m eta \u001b[36m0:00:00\u001b[0m:00:01\u001b[0m00:01\u001b[0m\n",
      "\u001b[?25hBuilding wheels for collected packages: pyfarmhash\n",
      "  Building wheel for pyfarmhash (setup.py) ... \u001b[?25ldone\n",
      "\u001b[?25h  Created wheel for pyfarmhash: filename=pyfarmhash-0.3.2-cp39-cp39-linux_x86_64.whl size=13872 sha256=e6fcc20a2a029522ff5f1154d04443d493bcf08030e6e5c4ce44ab5da9e0a3b8\n",
      "  Stored in directory: /home/jupyter/.cache/pip/wheels/de/2b/b1/c541160670d70f4b08c4786f4e155337d4baeaa3e01d9d1400\n",
      "Successfully built pyfarmhash\n",
      "Installing collected packages: pyfarmhash, libclang, flatbuffers, tensorflow-io-gcs-filesystem, tensorflow-estimator, tensorboard-data-server, protobuf, numpy, keras, grpcio, absl-py, pyarrow, ml-dtypes, google-auth, tensorflow-metadata, google-auth-oauthlib, google-api-core, apache-beam, tensorboard, google-api-python-client, tensorflow, google-cloud-videointelligence, google-cloud-language, google-cloud-datastore, google-cloud-bigtable, tensorflow-serving-api, tfx-bsl, tensorflow-data-validation\n",
      "\u001b[33m  WARNING: The scripts f2py, f2py3 and f2py3.9 are installed in '/home/jupyter/.local/bin' which is not on PATH.\n",
      "  Consider adding this directory to PATH or, if you prefer to suppress this warning, use --no-warn-script-location.\u001b[0m\u001b[33m\n",
      "\u001b[0m\u001b[33m  WARNING: The script plasma_store is installed in '/home/jupyter/.local/bin' which is not on PATH.\n",
      "  Consider adding this directory to PATH or, if you prefer to suppress this warning, use --no-warn-script-location.\u001b[0m\u001b[33m\n",
      "\u001b[0m\u001b[33m  WARNING: The script google-oauthlib-tool is installed in '/home/jupyter/.local/bin' which is not on PATH.\n",
      "  Consider adding this directory to PATH or, if you prefer to suppress this warning, use --no-warn-script-location.\u001b[0m\u001b[33m\n",
      "\u001b[0m\u001b[33m  WARNING: The script tensorboard is installed in '/home/jupyter/.local/bin' which is not on PATH.\n",
      "  Consider adding this directory to PATH or, if you prefer to suppress this warning, use --no-warn-script-location.\u001b[0m\u001b[33m\n",
      "\u001b[0m\u001b[33m  WARNING: The scripts estimator_ckpt_converter, import_pb_to_tensorboard, saved_model_cli, tensorboard, tf_upgrade_v2, tflite_convert, toco and toco_from_protos are installed in '/home/jupyter/.local/bin' which is not on PATH.\n",
      "  Consider adding this directory to PATH or, if you prefer to suppress this warning, use --no-warn-script-location.\u001b[0m\u001b[33m\n",
      "\u001b[0m\u001b[31mERROR: pip's dependency resolver does not currently take into account all the packages that are installed. This behaviour is the source of the following dependency conflicts.\n",
      "cloud-tpu-client 0.10 requires google-api-python-client==1.8.0, but you have google-api-python-client 1.12.11 which is incompatible.\n",
      "numba 0.56.4 requires numpy<1.24,>=1.18, but you have numpy 1.24.4 which is incompatible.\n",
      "tensorflow-io 0.21.0 requires tensorflow<2.7.0,>=2.6.0, but you have tensorflow 2.14.0 which is incompatible.\n",
      "tensorflow-io 0.21.0 requires tensorflow-io-gcs-filesystem==0.21.0, but you have tensorflow-io-gcs-filesystem 0.34.0 which is incompatible.\n",
      "tensorflow-transform 0.14.0 requires tensorflow-metadata<0.15,>=0.14, but you have tensorflow-metadata 1.14.0 which is incompatible.\n",
      "ydata-profiling 4.5.1 requires numpy<1.24,>=1.16.0, but you have numpy 1.24.4 which is incompatible.\u001b[0m\u001b[31m\n",
      "\u001b[0mSuccessfully installed absl-py-1.4.0 apache-beam-2.50.0 flatbuffers-23.5.26 google-api-core-2.12.0 google-api-python-client-1.12.11 google-auth-2.23.2 google-auth-oauthlib-1.0.0 google-cloud-bigtable-2.21.0 google-cloud-datastore-2.18.0 google-cloud-language-2.11.1 google-cloud-videointelligence-2.11.4 grpcio-1.59.0 keras-2.14.0 libclang-16.0.6 ml-dtypes-0.2.0 numpy-1.24.4 protobuf-3.20.3 pyarrow-10.0.1 pyfarmhash-0.3.2 tensorboard-2.14.1 tensorboard-data-server-0.7.1 tensorflow-2.14.0 tensorflow-data-validation-1.14.0 tensorflow-estimator-2.14.0 tensorflow-io-gcs-filesystem-0.34.0 tensorflow-metadata-1.14.0 tensorflow-serving-api-2.13.1 tfx-bsl-1.14.0\n"
     ]
    }
   ],
   "source": [
    "!pip install pyarrow --user\n",
    "!pip install numpy --user\n",
    "!pip install tensorflow-data-validation --user"
   ]
  },
  {
   "cell_type": "markdown",
   "metadata": {
    "colab_type": "text",
    "id": "AsHg6SD2nO1v"
   },
   "source": [
    "**Restart the kernel (Kernel > Restart kernel > Restart).**\n",
    "\n",
    "**Run the below cell and proceed further.**\n",
    "\n",
    "**Note: Please ignore any incompatibility warnings and errors.**"
   ]
  },
  {
   "cell_type": "markdown",
   "metadata": {
    "id": "4qBFH1ARcSNk"
   },
   "source": [
    "## Install TFDV\n",
    "\n",
    "This will pull in all the dependencies, which will take a minute.  Please ignore the warnings or errors regarding incompatible dependency versions.\n",
    "\n"
   ]
  },
  {
   "cell_type": "code",
   "execution_count": 1,
   "metadata": {
    "id": "hPJsE5Gkdp8m"
   },
   "outputs": [
    {
     "name": "stderr",
     "output_type": "stream",
     "text": [
      "2023-09-30 04:22:10.871997: E tensorflow/compiler/xla/stream_executor/cuda/cuda_dnn.cc:9342] Unable to register cuDNN factory: Attempting to register factory for plugin cuDNN when one has already been registered\n",
      "2023-09-30 04:22:10.872094: E tensorflow/compiler/xla/stream_executor/cuda/cuda_fft.cc:609] Unable to register cuFFT factory: Attempting to register factory for plugin cuFFT when one has already been registered\n",
      "2023-09-30 04:22:10.872136: E tensorflow/compiler/xla/stream_executor/cuda/cuda_blas.cc:1518] Unable to register cuBLAS factory: Attempting to register factory for plugin cuBLAS when one has already been registered\n",
      "2023-09-30 04:22:10.887940: I tensorflow/core/platform/cpu_feature_guard.cc:182] This TensorFlow binary is optimized to use available CPU instructions in performance-critical operations.\n",
      "To enable the following instructions: AVX2 FMA, in other operations, rebuild TensorFlow with the appropriate compiler flags.\n"
     ]
    },
    {
     "name": "stdout",
     "output_type": "stream",
     "text": [
      "Installing TensorFlow Data Validation\n"
     ]
    }
   ],
   "source": [
    "import pandas as pd\n",
    "import tensorflow_data_validation as tfdv\n",
    "import sys\n",
    "import warnings\n",
    "warnings.filterwarnings('ignore')\n",
    "\n",
    "print('Installing TensorFlow Data Validation')\n",
    "!pip install -q tensorflow_data_validation[visualization]"
   ]
  },
  {
   "cell_type": "markdown",
   "metadata": {
    "id": "5MizoHg1DRlK"
   },
   "source": [
    "## Load the Files\n",
    "We will download our dataset from Google Cloud Storage."
   ]
  },
  {
   "cell_type": "code",
   "execution_count": 2,
   "metadata": {
    "id": "x5gfFiTeDa6Y"
   },
   "outputs": [
    {
     "name": "stdout",
     "output_type": "stream",
     "text": [
      "Here's what we downloaded:\n",
      "/var/tmp/tmpxvk09rw1/data:\n",
      "eval  serving  train\n",
      "\n",
      "/var/tmp/tmpxvk09rw1/data/eval:\n",
      "data.csv\n",
      "\n",
      "/var/tmp/tmpxvk09rw1/data/serving:\n",
      "data.csv\n",
      "\n",
      "/var/tmp/tmpxvk09rw1/data/train:\n",
      "data.csv\n"
     ]
    }
   ],
   "source": [
    "import os\n",
    "import tempfile, urllib, zipfile\n",
    "\n",
    "# Set up some globals for our file paths\n",
    "BASE_DIR = tempfile.mkdtemp()\n",
    "DATA_DIR = os.path.join(BASE_DIR, 'data')\n",
    "OUTPUT_DIR = os.path.join(BASE_DIR, 'chicago_taxi_output')\n",
    "TRAIN_DATA = os.path.join(DATA_DIR, 'train', 'data.csv')\n",
    "EVAL_DATA = os.path.join(DATA_DIR, 'eval', 'data.csv')\n",
    "SERVING_DATA = os.path.join(DATA_DIR, 'serving', 'data.csv')\n",
    "\n",
    "# Download the zip file from GCP and unzip it\n",
    "zip, headers = urllib.request.urlretrieve('https://storage.googleapis.com/artifacts.tfx-oss-public.appspot.com/datasets/chicago_data.zip')\n",
    "zipfile.ZipFile(zip).extractall(BASE_DIR)\n",
    "zipfile.ZipFile(zip).close()\n",
    "\n",
    "print(\"Here's what we downloaded:\")\n",
    "!ls -R {os.path.join(BASE_DIR, 'data')}"
   ]
  },
  {
   "cell_type": "markdown",
   "metadata": {
    "id": "IFXK2AdpSpv0"
   },
   "source": [
    "### Check the version"
   ]
  },
  {
   "cell_type": "code",
   "execution_count": 3,
   "metadata": {
    "id": "F5rPatTDSCHB"
   },
   "outputs": [
    {
     "name": "stdout",
     "output_type": "stream",
     "text": [
      "TFDV version: 1.14.0\n"
     ]
    }
   ],
   "source": [
    "import tensorflow_data_validation as tfdv\n",
    "print('TFDV version: {}'.format(tfdv.version.__version__))"
   ]
  },
  {
   "cell_type": "markdown",
   "metadata": {
    "id": "H0sFmiTbT8-x"
   },
   "source": [
    "## Compute and visualize statistics\n",
    "\n",
    "First we'll use [`tfdv.generate_statistics_from_csv`](https://www.tensorflow.org/tfx/data_validation/api_docs/python/tfdv/generate_statistics_from_csv) to compute statistics for our training data. (ignore the snappy warnings)\n",
    "\n",
    "TFDV can compute descriptive [statistics](https://github.com/tensorflow/metadata/blob/v0.6.0/tensorflow_metadata/proto/v0/statistics.proto) that provide a quick overview of the data in terms of the features that are present and the shapes of their value distributions.\n",
    "\n",
    "Internally, TFDV uses [Apache Beam](https://beam.apache.org/)'s data-parallel processing framework to scale the computation of statistics over large datasets. For applications that wish to integrate deeper with TFDV (e.g., attach statistics generation at the end of a data-generation pipeline), the API also exposes a Beam PTransform for statistics generation."
   ]
  },
  {
   "cell_type": "code",
   "execution_count": 4,
   "metadata": {
    "id": "EE481oMbT-H0"
   },
   "outputs": [
    {
     "name": "stderr",
     "output_type": "stream",
     "text": [
      "WARNING:apache_beam.runners.interactive.interactive_environment:Dependencies required for Interactive Beam PCollection visualization are not available, please use: `pip install apache-beam[interactive]` to install necessary dependencies to enable all data visualization features.\n"
     ]
    },
    {
     "data": {
      "application/javascript": [
       "\n",
       "        if (typeof window.interactive_beam_jquery == 'undefined') {\n",
       "          var jqueryScript = document.createElement('script');\n",
       "          jqueryScript.src = 'https://code.jquery.com/jquery-3.4.1.slim.min.js';\n",
       "          jqueryScript.type = 'text/javascript';\n",
       "          jqueryScript.onload = function() {\n",
       "            var datatableScript = document.createElement('script');\n",
       "            datatableScript.src = 'https://cdn.datatables.net/1.10.20/js/jquery.dataTables.min.js';\n",
       "            datatableScript.type = 'text/javascript';\n",
       "            datatableScript.onload = function() {\n",
       "              window.interactive_beam_jquery = jQuery.noConflict(true);\n",
       "              window.interactive_beam_jquery(document).ready(function($){\n",
       "                \n",
       "              });\n",
       "            }\n",
       "            document.head.appendChild(datatableScript);\n",
       "          };\n",
       "          document.head.appendChild(jqueryScript);\n",
       "        } else {\n",
       "          window.interactive_beam_jquery(document).ready(function($){\n",
       "            \n",
       "          });\n",
       "        }"
      ]
     },
     "metadata": {},
     "output_type": "display_data"
    },
    {
     "name": "stderr",
     "output_type": "stream",
     "text": [
      "WARNING:apache_beam.io.tfrecordio:Couldn't find python-snappy so the implementation of _TFRecordUtil._masked_crc32c is not as fast as it could be.\n"
     ]
    },
    {
     "name": "stdout",
     "output_type": "stream",
     "text": [
      "WARNING:tensorflow:From /home/jupyter/.local/lib/python3.9/site-packages/tensorflow_data_validation/utils/artifacts_io_impl.py:93: tf_record_iterator (from tensorflow.python.lib.io.tf_record) is deprecated and will be removed in a future version.\n",
      "Instructions for updating:\n",
      "Use eager execution and: \n",
      "`tf.data.TFRecordDataset(path)`\n"
     ]
    },
    {
     "name": "stderr",
     "output_type": "stream",
     "text": [
      "WARNING:tensorflow:From /home/jupyter/.local/lib/python3.9/site-packages/tensorflow_data_validation/utils/artifacts_io_impl.py:93: tf_record_iterator (from tensorflow.python.lib.io.tf_record) is deprecated and will be removed in a future version.\n",
      "Instructions for updating:\n",
      "Use eager execution and: \n",
      "`tf.data.TFRecordDataset(path)`\n"
     ]
    }
   ],
   "source": [
    "# Compute data statistics from CSV files.\n",
    "# TODO: Your code goes here\n",
    "train_stats = tfdv.generate_statistics_from_csv(data_location=TRAIN_DATA)\n"
   ]
  },
  {
   "cell_type": "markdown",
   "metadata": {
    "id": "JhXQSxJ2dB_6"
   },
   "source": [
    "Now let's use [`tfdv.visualize_statistics`](https://www.tensorflow.org/tfx/data_validation/api_docs/python/tfdv/visualize_statistics), which uses [Facets](https://pair-code.github.io/facets/) to create a succinct visualization of our training data:\n",
    "\n",
    "* Notice that numeric features and categorical features are visualized separately, and that charts are displayed showing the distributions for each feature.\n",
    "* Notice that features with missing or zero values display a percentage in red as a visual indicator that there may be issues with examples in those features.  The percentage is the percentage of examples that have missing or zero values for that feature.\n",
    "* Notice that there are no examples with values for `pickup_census_tract`.  This is an opportunity for dimensionality reduction!\n",
    "* Try clicking \"expand\" above the charts to change the display\n",
    "* Try hovering over bars in the charts to display bucket ranges and counts\n",
    "* Try switching between the log and linear scales, and notice how the log scale reveals much more detail about the `payment_type` categorical feature\n",
    "* Try selecting \"quantiles\" from the \"Chart to show\" menu, and hover over the markers to show the quantile percentages"
   ]
  },
  {
   "cell_type": "code",
   "execution_count": 5,
   "metadata": {
    "id": "U3tUKgh7Up3x"
   },
   "outputs": [
    {
     "data": {
      "text/html": [
       "<iframe id='facets-iframe' width=\"100%\" height=\"500px\"></iframe>\n",
       "        <script>\n",
       "        facets_iframe = document.getElementById('facets-iframe');\n",
       "        facets_html = '<script src=\"https://cdnjs.cloudflare.com/ajax/libs/webcomponentsjs/1.3.3/webcomponents-lite.js\"><\\/script><link rel=\"import\" href=\"https://raw.githubusercontent.com/PAIR-code/facets/master/facets-dist/facets-jupyter.html\"><facets-overview proto-input=\"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\"></facets-overview>';\n",
       "        facets_iframe.srcdoc = facets_html;\n",
       "         facets_iframe.id = \"\";\n",
       "         setTimeout(() => {\n",
       "           facets_iframe.setAttribute('height', facets_iframe.contentWindow.document.body.offsetHeight + 'px')\n",
       "         }, 1500)\n",
       "         </script>"
      ],
      "text/plain": [
       "<IPython.core.display.HTML object>"
      ]
     },
     "metadata": {},
     "output_type": "display_data"
    }
   ],
   "source": [
    "# Visualize the input statistics using Facets.\n",
    "# TODO: Your code goes here\n",
    "tfdv.visualize_statistics(train_stats)"
   ]
  },
  {
   "cell_type": "markdown",
   "metadata": {
    "id": "KVR02-y4V0uM"
   },
   "source": [
    "## Infer a schema\n",
    "\n",
    "Now let's use [`tfdv.infer_schema`](https://www.tensorflow.org/tfx/data_validation/api_docs/python/tfdv/infer_schema) to create a schema for our data.  A schema defines constraints for the data that are relevant for ML. Example constraints include the data type of each feature, whether it's numerical or categorical, or the frequency of its presence in the data.  For categorical features the schema also defines the domain - the list of acceptable values.  Since writing a schema can be a tedious task, especially for datasets with lots of features, TFDV provides a method to generate an initial version of the schema based on the descriptive statistics.\n",
    "\n",
    "Getting the schema right is important because the rest of our production pipeline will be relying on the schema that TFDV generates to be correct.  The schema also provides documentation for the data, and so is useful when different developers work on the same data.  Let's use [`tfdv.display_schema`](https://www.tensorflow.org/tfx/data_validation/api_docs/python/tfdv/display_schema) to display the inferred schema so that we can review it."
   ]
  },
  {
   "cell_type": "code",
   "execution_count": 6,
   "metadata": {
    "id": "6LLkRJThVr9m"
   },
   "outputs": [
    {
     "data": {
      "text/html": [
       "<div>\n",
       "<style scoped>\n",
       "    .dataframe tbody tr th:only-of-type {\n",
       "        vertical-align: middle;\n",
       "    }\n",
       "\n",
       "    .dataframe tbody tr th {\n",
       "        vertical-align: top;\n",
       "    }\n",
       "\n",
       "    .dataframe thead th {\n",
       "        text-align: right;\n",
       "    }\n",
       "</style>\n",
       "<table border=\"1\" class=\"dataframe\">\n",
       "  <thead>\n",
       "    <tr style=\"text-align: right;\">\n",
       "      <th></th>\n",
       "      <th>Type</th>\n",
       "      <th>Presence</th>\n",
       "      <th>Valency</th>\n",
       "      <th>Domain</th>\n",
       "    </tr>\n",
       "    <tr>\n",
       "      <th>Feature name</th>\n",
       "      <th></th>\n",
       "      <th></th>\n",
       "      <th></th>\n",
       "      <th></th>\n",
       "    </tr>\n",
       "  </thead>\n",
       "  <tbody>\n",
       "    <tr>\n",
       "      <th>'pickup_community_area'</th>\n",
       "      <td>INT</td>\n",
       "      <td>required</td>\n",
       "      <td></td>\n",
       "      <td>-</td>\n",
       "    </tr>\n",
       "    <tr>\n",
       "      <th>'fare'</th>\n",
       "      <td>FLOAT</td>\n",
       "      <td>required</td>\n",
       "      <td></td>\n",
       "      <td>-</td>\n",
       "    </tr>\n",
       "    <tr>\n",
       "      <th>'trip_start_month'</th>\n",
       "      <td>INT</td>\n",
       "      <td>required</td>\n",
       "      <td></td>\n",
       "      <td>-</td>\n",
       "    </tr>\n",
       "    <tr>\n",
       "      <th>'trip_start_hour'</th>\n",
       "      <td>INT</td>\n",
       "      <td>required</td>\n",
       "      <td></td>\n",
       "      <td>-</td>\n",
       "    </tr>\n",
       "    <tr>\n",
       "      <th>'trip_start_day'</th>\n",
       "      <td>INT</td>\n",
       "      <td>required</td>\n",
       "      <td></td>\n",
       "      <td>-</td>\n",
       "    </tr>\n",
       "    <tr>\n",
       "      <th>'trip_start_timestamp'</th>\n",
       "      <td>INT</td>\n",
       "      <td>required</td>\n",
       "      <td></td>\n",
       "      <td>-</td>\n",
       "    </tr>\n",
       "    <tr>\n",
       "      <th>'pickup_latitude'</th>\n",
       "      <td>FLOAT</td>\n",
       "      <td>required</td>\n",
       "      <td></td>\n",
       "      <td>-</td>\n",
       "    </tr>\n",
       "    <tr>\n",
       "      <th>'pickup_longitude'</th>\n",
       "      <td>FLOAT</td>\n",
       "      <td>required</td>\n",
       "      <td></td>\n",
       "      <td>-</td>\n",
       "    </tr>\n",
       "    <tr>\n",
       "      <th>'dropoff_latitude'</th>\n",
       "      <td>FLOAT</td>\n",
       "      <td>optional</td>\n",
       "      <td>single</td>\n",
       "      <td>-</td>\n",
       "    </tr>\n",
       "    <tr>\n",
       "      <th>'dropoff_longitude'</th>\n",
       "      <td>FLOAT</td>\n",
       "      <td>optional</td>\n",
       "      <td>single</td>\n",
       "      <td>-</td>\n",
       "    </tr>\n",
       "    <tr>\n",
       "      <th>'trip_miles'</th>\n",
       "      <td>FLOAT</td>\n",
       "      <td>required</td>\n",
       "      <td></td>\n",
       "      <td>-</td>\n",
       "    </tr>\n",
       "    <tr>\n",
       "      <th>'pickup_census_tract'</th>\n",
       "      <td>BYTES</td>\n",
       "      <td>optional</td>\n",
       "      <td></td>\n",
       "      <td>-</td>\n",
       "    </tr>\n",
       "    <tr>\n",
       "      <th>'dropoff_census_tract'</th>\n",
       "      <td>INT</td>\n",
       "      <td>optional</td>\n",
       "      <td>single</td>\n",
       "      <td>-</td>\n",
       "    </tr>\n",
       "    <tr>\n",
       "      <th>'payment_type'</th>\n",
       "      <td>STRING</td>\n",
       "      <td>required</td>\n",
       "      <td></td>\n",
       "      <td>'payment_type'</td>\n",
       "    </tr>\n",
       "    <tr>\n",
       "      <th>'company'</th>\n",
       "      <td>STRING</td>\n",
       "      <td>optional</td>\n",
       "      <td>single</td>\n",
       "      <td>'company'</td>\n",
       "    </tr>\n",
       "    <tr>\n",
       "      <th>'trip_seconds'</th>\n",
       "      <td>INT</td>\n",
       "      <td>required</td>\n",
       "      <td></td>\n",
       "      <td>-</td>\n",
       "    </tr>\n",
       "    <tr>\n",
       "      <th>'dropoff_community_area'</th>\n",
       "      <td>INT</td>\n",
       "      <td>optional</td>\n",
       "      <td>single</td>\n",
       "      <td>-</td>\n",
       "    </tr>\n",
       "    <tr>\n",
       "      <th>'tips'</th>\n",
       "      <td>FLOAT</td>\n",
       "      <td>required</td>\n",
       "      <td></td>\n",
       "      <td>-</td>\n",
       "    </tr>\n",
       "  </tbody>\n",
       "</table>\n",
       "</div>"
      ],
      "text/plain": [
       "                            Type  Presence Valency          Domain\n",
       "Feature name                                                      \n",
       "'pickup_community_area'      INT  required                       -\n",
       "'fare'                     FLOAT  required                       -\n",
       "'trip_start_month'           INT  required                       -\n",
       "'trip_start_hour'            INT  required                       -\n",
       "'trip_start_day'             INT  required                       -\n",
       "'trip_start_timestamp'       INT  required                       -\n",
       "'pickup_latitude'          FLOAT  required                       -\n",
       "'pickup_longitude'         FLOAT  required                       -\n",
       "'dropoff_latitude'         FLOAT  optional  single               -\n",
       "'dropoff_longitude'        FLOAT  optional  single               -\n",
       "'trip_miles'               FLOAT  required                       -\n",
       "'pickup_census_tract'      BYTES  optional                       -\n",
       "'dropoff_census_tract'       INT  optional  single               -\n",
       "'payment_type'            STRING  required          'payment_type'\n",
       "'company'                 STRING  optional  single       'company'\n",
       "'trip_seconds'               INT  required                       -\n",
       "'dropoff_community_area'     INT  optional  single               -\n",
       "'tips'                     FLOAT  required                       -"
      ]
     },
     "metadata": {},
     "output_type": "display_data"
    },
    {
     "data": {
      "text/html": [
       "<div>\n",
       "<style scoped>\n",
       "    .dataframe tbody tr th:only-of-type {\n",
       "        vertical-align: middle;\n",
       "    }\n",
       "\n",
       "    .dataframe tbody tr th {\n",
       "        vertical-align: top;\n",
       "    }\n",
       "\n",
       "    .dataframe thead th {\n",
       "        text-align: right;\n",
       "    }\n",
       "</style>\n",
       "<table border=\"1\" class=\"dataframe\">\n",
       "  <thead>\n",
       "    <tr style=\"text-align: right;\">\n",
       "      <th></th>\n",
       "      <th>Values</th>\n",
       "    </tr>\n",
       "    <tr>\n",
       "      <th>Domain</th>\n",
       "      <th></th>\n",
       "    </tr>\n",
       "  </thead>\n",
       "  <tbody>\n",
       "    <tr>\n",
       "      <th>'payment_type'</th>\n",
       "      <td>'Cash', 'Credit Card', 'Dispute', 'No Charge', 'Pcard', 'Unknown'</td>\n",
       "    </tr>\n",
       "    <tr>\n",
       "      <th>'company'</th>\n",
       "      <td>'0118 - 42111 Godfrey S.Awir', '0694 - 59280 Chinesco Trans Inc', '1085 - 72312 N and W Cab Co', '2733 - 74600 Benny Jona', '2809 - 95474 C &amp; D Cab Co Inc.', '3011 - 66308 JBL Cab Inc.', '3152 - 97284 Crystal Abernathy', '3201 - C&amp;D Cab Co Inc', '3201 - CID Cab Co Inc', '3253 - 91138 Gaither Cab Co.', '3385 - 23210 Eman Cab', '3623 - 72222 Arrington Enterprises', '3897 - Ilie Malec', '4053 - Adwar H. Nikola', '4197 - 41842 Royal Star', '4615 - 83503 Tyrone Henderson', '4615 - Tyrone Henderson', '4623 - Jay Kim', '5006 - 39261 Salifu Bawa', '5006 - Salifu Bawa', '5074 - 54002 Ahzmi Inc', '5074 - Ahzmi Inc', '5129 - 87128', '5129 - 98755 Mengisti Taxi', '5129 - Mengisti Taxi', '5724 - KYVI Cab Inc', '585 - Valley Cab Co', '5864 - 73614 Thomas Owusu', '5864 - Thomas Owusu', '5874 - 73628 Sergey Cab Corp.', '5997 - 65283 AW Services Inc.', '5997 - AW Services Inc.', '6488 - 83287 Zuha Taxi', '6743 - Luhak Corp', 'Blue Ribbon Taxi Association Inc.', 'C &amp; D Cab Co Inc', 'Chicago Elite Cab Corp.', 'Chicago Elite Cab Corp. (Chicago Carriag', 'Chicago Medallion Leasing INC', 'Chicago Medallion Management', 'Choice Taxi Association', 'Dispatch Taxi Affiliation', 'KOAM Taxi Association', 'Northwest Management LLC', 'Taxi Affiliation Services', 'Top Cab Affiliation'</td>\n",
       "    </tr>\n",
       "  </tbody>\n",
       "</table>\n",
       "</div>"
      ],
      "text/plain": [
       "                                                                                                                                                                                                                                                                                                                                                                                                                                                                                                                                                                                                                                                                                                                                                                                                                                                                                                                                                                                                                                                                                                                                                                                                                                                                                                                                    Values\n",
       "Domain                                                                                                                                                                                                                                                                                                                                                                                                                                                                                                                                                                                                                                                                                                                                                                                                                                                                                                                                                                                                                                                                                                                                                                                                                                                                                                                                    \n",
       "'payment_type'                                                                                                                                                                                                                                                                                                                                                                                                                                                                                                                                                                                                                                                                                                                                                                                                                                                                                                                                                                                                                                                                                                                                                                                                                                                           'Cash', 'Credit Card', 'Dispute', 'No Charge', 'Pcard', 'Unknown'\n",
       "'company'       '0118 - 42111 Godfrey S.Awir', '0694 - 59280 Chinesco Trans Inc', '1085 - 72312 N and W Cab Co', '2733 - 74600 Benny Jona', '2809 - 95474 C & D Cab Co Inc.', '3011 - 66308 JBL Cab Inc.', '3152 - 97284 Crystal Abernathy', '3201 - C&D Cab Co Inc', '3201 - CID Cab Co Inc', '3253 - 91138 Gaither Cab Co.', '3385 - 23210 Eman Cab', '3623 - 72222 Arrington Enterprises', '3897 - Ilie Malec', '4053 - Adwar H. Nikola', '4197 - 41842 Royal Star', '4615 - 83503 Tyrone Henderson', '4615 - Tyrone Henderson', '4623 - Jay Kim', '5006 - 39261 Salifu Bawa', '5006 - Salifu Bawa', '5074 - 54002 Ahzmi Inc', '5074 - Ahzmi Inc', '5129 - 87128', '5129 - 98755 Mengisti Taxi', '5129 - Mengisti Taxi', '5724 - KYVI Cab Inc', '585 - Valley Cab Co', '5864 - 73614 Thomas Owusu', '5864 - Thomas Owusu', '5874 - 73628 Sergey Cab Corp.', '5997 - 65283 AW Services Inc.', '5997 - AW Services Inc.', '6488 - 83287 Zuha Taxi', '6743 - Luhak Corp', 'Blue Ribbon Taxi Association Inc.', 'C & D Cab Co Inc', 'Chicago Elite Cab Corp.', 'Chicago Elite Cab Corp. (Chicago Carriag', 'Chicago Medallion Leasing INC', 'Chicago Medallion Management', 'Choice Taxi Association', 'Dispatch Taxi Affiliation', 'KOAM Taxi Association', 'Northwest Management LLC', 'Taxi Affiliation Services', 'Top Cab Affiliation'"
      ]
     },
     "metadata": {},
     "output_type": "display_data"
    }
   ],
   "source": [
    "# Infers schema from the input statistics.\n",
    "# TODO: Your code goes here\n",
    "schema = tfdv.infer_schema(statistics=train_stats)\n",
    "tfdv.display_schema(schema=schema)"
   ]
  },
  {
   "cell_type": "markdown",
   "metadata": {
    "id": "ZVa3EXE8WEDE"
   },
   "source": [
    "## Check evaluation data for errors\n",
    "\n",
    "So far we've only been looking at the training data.  It's important that our evaluation data is consistent with our training data, including that it uses the same schema.  It's also important that the evaluation data includes examples of roughly the same ranges of values for our numerical features as our training data, so that our coverage of the loss surface during evaluation is roughly the same as during training.  The same is true for categorical features.  Otherwise, we may have training issues that are not identified during evaluation, because we didn't evaluate part of our loss surface.\n",
    "\n",
    "* Notice that each feature now includes statistics for both the training and evaluation datasets.\n",
    "* Notice that the charts now have both the training and evaluation datasets overlaid, making it easy to compare them.\n",
    "* Notice that the charts now include a percentages view, which can be combined with log or the default linear scales.\n",
    "* Notice that the mean and median for `trip_miles` are different for the training versus the evaluation datasets.  Will that cause problems?\n",
    "* Wow, the max `tips` is very different for the training versus the evaluation datasets.  Will that cause problems?\n",
    "* Click expand on the Numeric Features chart, and select the log scale.  Review the `trip_seconds` feature, and notice the difference in the max.  Will evaluation miss parts of the loss surface?"
   ]
  },
  {
   "cell_type": "code",
   "execution_count": 7,
   "metadata": {
    "id": "j_P0RLYlV6XG"
   },
   "outputs": [
    {
     "data": {
      "text/html": [
       "<iframe id='facets-iframe' width=\"100%\" height=\"500px\"></iframe>\n",
       "        <script>\n",
       "        facets_iframe = document.getElementById('facets-iframe');\n",
       "        facets_html = '<script src=\"https://cdnjs.cloudflare.com/ajax/libs/webcomponentsjs/1.3.3/webcomponents-lite.js\"><\\/script><link rel=\"import\" href=\"https://raw.githubusercontent.com/PAIR-code/facets/master/facets-dist/facets-jupyter.html\"><facets-overview proto-input=\"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\"></facets-overview>';\n",
       "        facets_iframe.srcdoc = facets_html;\n",
       "         facets_iframe.id = \"\";\n",
       "         setTimeout(() => {\n",
       "           facets_iframe.setAttribute('height', facets_iframe.contentWindow.document.body.offsetHeight + 'px')\n",
       "         }, 1500)\n",
       "         </script>"
      ],
      "text/plain": [
       "<IPython.core.display.HTML object>"
      ]
     },
     "metadata": {},
     "output_type": "display_data"
    }
   ],
   "source": [
    "# Compute stats for evaluation data\n",
    "eval_stats = tfdv.generate_statistics_from_csv(data_location=EVAL_DATA)\n",
    "\n",
    "# Compare evaluation data with training data\n",
    "tfdv.visualize_statistics(lhs_statistics=eval_stats, rhs_statistics=train_stats,\n",
    "                          lhs_name='EVAL_DATASET', rhs_name='TRAIN_DATASET')"
   ]
  },
  {
   "cell_type": "markdown",
   "metadata": {
    "id": "ycRRa4leHp84"
   },
   "source": [
    "## Check for evaluation anomalies\n",
    "\n",
    "Does our evaluation dataset match the schema from our training dataset?  This is especially important for categorical features, where we want to identify the range of acceptable values.\n",
    "\n",
    "Key Point: What would happen if we tried to evaluate using data with categorical feature values that were not in our training dataset?  What about numeric features that are outside the ranges in our training dataset?"
   ]
  },
  {
   "cell_type": "code",
   "execution_count": 8,
   "metadata": {
    "id": "T7uGVeL2WOam"
   },
   "outputs": [
    {
     "data": {
      "text/html": [
       "<div>\n",
       "<style scoped>\n",
       "    .dataframe tbody tr th:only-of-type {\n",
       "        vertical-align: middle;\n",
       "    }\n",
       "\n",
       "    .dataframe tbody tr th {\n",
       "        vertical-align: top;\n",
       "    }\n",
       "\n",
       "    .dataframe thead th {\n",
       "        text-align: right;\n",
       "    }\n",
       "</style>\n",
       "<table border=\"1\" class=\"dataframe\">\n",
       "  <thead>\n",
       "    <tr style=\"text-align: right;\">\n",
       "      <th></th>\n",
       "      <th>Anomaly short description</th>\n",
       "      <th>Anomaly long description</th>\n",
       "    </tr>\n",
       "    <tr>\n",
       "      <th>Feature name</th>\n",
       "      <th></th>\n",
       "      <th></th>\n",
       "    </tr>\n",
       "  </thead>\n",
       "  <tbody>\n",
       "    <tr>\n",
       "      <th>'company'</th>\n",
       "      <td>Unexpected string values</td>\n",
       "      <td>Examples contain values missing from the schema: 2092 - 61288 Sbeih company (&lt;1%), 2192 - 73487 Zeymane Corp (&lt;1%), 2192 - Zeymane Corp (&lt;1%), 2823 - 73307 Seung Lee (&lt;1%), 3094 - 24059 G.L.B. Cab Co (&lt;1%), 3319 - CD Cab Co (&lt;1%), 3385 - Eman Cab (&lt;1%), 3897 - 57856 Ilie Malec (&lt;1%), 4053 - 40193 Adwar H. Nikola (&lt;1%), 4197 - Royal Star (&lt;1%), 585 - 88805 Valley Cab Co (&lt;1%), 5874 - Sergey Cab Corp. (&lt;1%), 6057 - 24657 Richard Addo (&lt;1%), 6574 - Babylon Express Inc. (&lt;1%), 6742 - 83735 Tasha ride inc (&lt;1%).</td>\n",
       "    </tr>\n",
       "    <tr>\n",
       "      <th>'payment_type'</th>\n",
       "      <td>Unexpected string values</td>\n",
       "      <td>Examples contain values missing from the schema: Prcard (&lt;1%).</td>\n",
       "    </tr>\n",
       "  </tbody>\n",
       "</table>\n",
       "</div>"
      ],
      "text/plain": [
       "               Anomaly short description  \\\n",
       "Feature name                               \n",
       "'company'       Unexpected string values   \n",
       "'payment_type'  Unexpected string values   \n",
       "\n",
       "                                                                                                                                                                                                                                                                                                                                                                                                                                                                                                                         Anomaly long description  \n",
       "Feature name                                                                                                                                                                                                                                                                                                                                                                                                                                                                                                                                       \n",
       "'company'       Examples contain values missing from the schema: 2092 - 61288 Sbeih company (<1%), 2192 - 73487 Zeymane Corp (<1%), 2192 - Zeymane Corp (<1%), 2823 - 73307 Seung Lee (<1%), 3094 - 24059 G.L.B. Cab Co (<1%), 3319 - CD Cab Co (<1%), 3385 - Eman Cab (<1%), 3897 - 57856 Ilie Malec (<1%), 4053 - 40193 Adwar H. Nikola (<1%), 4197 - Royal Star (<1%), 585 - 88805 Valley Cab Co (<1%), 5874 - Sergey Cab Corp. (<1%), 6057 - 24657 Richard Addo (<1%), 6574 - Babylon Express Inc. (<1%), 6742 - 83735 Tasha ride inc (<1%).   \n",
       "'payment_type'                                                                                                                                                                                                                                                                                                                                                                                                                                                                    Examples contain values missing from the schema: Prcard (<1%).   "
      ]
     },
     "metadata": {},
     "output_type": "display_data"
    }
   ],
   "source": [
    "# Check eval data for errors by validating the eval data stats using the previously inferred schema.\n",
    "# TODO: Your code goes here\n",
    "anomalies = tfdv.validate_statistics(statistics=eval_stats, schema=schema)\n",
    "tfdv.display_anomalies(anomalies)"
   ]
  },
  {
   "cell_type": "markdown",
   "metadata": {
    "id": "dzxx1gBpJIBa"
   },
   "source": [
    "## Fix evaluation anomalies in the schema\n",
    "\n",
    "Oops!  It looks like we have some new values for `company` in our evaluation data, that we didn't have in our training data.  We also have a new value for `payment_type`.  These should be considered anomalies, but what we decide to do about them depends on our domain knowledge of the data.  If an anomaly truly indicates a data error, then the underlying data should be fixed.  Otherwise, we can simply update the schema to include the values in the eval dataset.\n",
    "\n",
    "Key Point: How would our evaluation results be affected if we did not fix these problems?\n",
    "\n",
    "Unless we change our evaluation dataset we can't fix everything, but we can fix things in the schema that we're comfortable accepting.  That includes relaxing our view of what is and what is not an anomaly for particular features, as well as updating our schema to include missing values for categorical features.  TFDV has enabled us to discover what we need to fix.\n",
    "\n",
    "Let's make those fixes now, and then review one more time."
   ]
  },
  {
   "cell_type": "code",
   "execution_count": 9,
   "metadata": {
    "id": "legN2nXLWZAc"
   },
   "outputs": [
    {
     "data": {
      "text/html": [
       "<h4 style=\"color:green;\">No anomalies found.</h4>"
      ],
      "text/plain": [
       "<IPython.core.display.HTML object>"
      ]
     },
     "metadata": {},
     "output_type": "display_data"
    }
   ],
   "source": [
    "# Relax the minimum fraction of values that must come from the domain for feature company.\n",
    "company = tfdv.get_feature(schema, 'company')\n",
    "company.distribution_constraints.min_domain_mass = 0.9\n",
    "\n",
    "# Add new value to the domain of feature payment_type.\n",
    "payment_type_domain = tfdv.get_domain(schema, 'payment_type')\n",
    "payment_type_domain.value.append('Prcard')\n",
    "\n",
    "# Validate eval stats after updating the schema \n",
    "# TODO: Your code goes here\n",
    "updated_anomalies = tfdv.validate_statistics(eval_stats, schema)\n",
    "tfdv.display_anomalies(updated_anomalies)"
   ]
  },
  {
   "cell_type": "markdown",
   "metadata": {
    "id": "xNo72YP9LN98"
   },
   "source": [
    "Hey, look at that!  We verified that the training and evaluation data are now consistent!  Thanks TFDV ;)"
   ]
  },
  {
   "cell_type": "markdown",
   "metadata": {
    "id": "KZ1P4ucHJj5o"
   },
   "source": [
    "## Schema Environments"
   ]
  },
  {
   "cell_type": "markdown",
   "metadata": {
    "id": "qb179jczJppA"
   },
   "source": [
    "We also split off a 'serving' dataset for this example, so we should check that too.  By default all datasets in a pipeline should use the same schema, but there are often exceptions. For example, in supervised learning we need to include labels in our dataset, but when we serve the model for inference the labels will not be included. In some cases introducing slight schema variations is necessary.\n",
    "\n",
    "**Environments** can be used to express such requirements. In particular, features in schema can be associated with a set of environments using `default_environment`, `in_environment` and `not_in_environment`.\n",
    "\n",
    "For example, in this dataset the `tips` feature is included as the label for training, but it's missing in the serving data. Without environment specified, it will show up as an anomaly."
   ]
  },
  {
   "cell_type": "code",
   "execution_count": 10,
   "metadata": {
    "id": "wSZfbnifJuTA"
   },
   "outputs": [
    {
     "data": {
      "text/html": [
       "<div>\n",
       "<style scoped>\n",
       "    .dataframe tbody tr th:only-of-type {\n",
       "        vertical-align: middle;\n",
       "    }\n",
       "\n",
       "    .dataframe tbody tr th {\n",
       "        vertical-align: top;\n",
       "    }\n",
       "\n",
       "    .dataframe thead th {\n",
       "        text-align: right;\n",
       "    }\n",
       "</style>\n",
       "<table border=\"1\" class=\"dataframe\">\n",
       "  <thead>\n",
       "    <tr style=\"text-align: right;\">\n",
       "      <th></th>\n",
       "      <th>Anomaly short description</th>\n",
       "      <th>Anomaly long description</th>\n",
       "    </tr>\n",
       "    <tr>\n",
       "      <th>Feature name</th>\n",
       "      <th></th>\n",
       "      <th></th>\n",
       "    </tr>\n",
       "  </thead>\n",
       "  <tbody>\n",
       "    <tr>\n",
       "      <th>'tips'</th>\n",
       "      <td>Column dropped</td>\n",
       "      <td>Column is completely missing</td>\n",
       "    </tr>\n",
       "  </tbody>\n",
       "</table>\n",
       "</div>"
      ],
      "text/plain": [
       "             Anomaly short description      Anomaly long description\n",
       "Feature name                                                        \n",
       "'tips'                  Column dropped  Column is completely missing"
      ]
     },
     "metadata": {},
     "output_type": "display_data"
    }
   ],
   "source": [
    "serving_stats = tfdv.generate_statistics_from_csv(SERVING_DATA)\n",
    "serving_anomalies = tfdv.validate_statistics(serving_stats, schema)\n",
    "\n",
    "tfdv.display_anomalies(serving_anomalies)"
   ]
  },
  {
   "cell_type": "markdown",
   "metadata": {
    "id": "FDYHvZ09LfkT"
   },
   "source": [
    "We'll deal with the `tips` feature below.  We also have an INT value in our trip seconds, where our schema expected a FLOAT. By making us aware of that difference, TFDV helps uncover inconsistencies in the way the data is generated for training and serving. It's very easy to be unaware of problems like that until model performance suffers, sometimes catastrophically. It may or may not be a significant issue, but in any case this should be cause for further investigation.\n",
    "\n",
    "In this case, we can safely convert INT values to FLOATs, so we want to tell TFDV to use our schema to infer the type.  Let's do that now."
   ]
  },
  {
   "cell_type": "code",
   "execution_count": 11,
   "metadata": {
    "id": "OhtYF8aAczpd"
   },
   "outputs": [
    {
     "data": {
      "text/html": [
       "<div>\n",
       "<style scoped>\n",
       "    .dataframe tbody tr th:only-of-type {\n",
       "        vertical-align: middle;\n",
       "    }\n",
       "\n",
       "    .dataframe tbody tr th {\n",
       "        vertical-align: top;\n",
       "    }\n",
       "\n",
       "    .dataframe thead th {\n",
       "        text-align: right;\n",
       "    }\n",
       "</style>\n",
       "<table border=\"1\" class=\"dataframe\">\n",
       "  <thead>\n",
       "    <tr style=\"text-align: right;\">\n",
       "      <th></th>\n",
       "      <th>Anomaly short description</th>\n",
       "      <th>Anomaly long description</th>\n",
       "    </tr>\n",
       "    <tr>\n",
       "      <th>Feature name</th>\n",
       "      <th></th>\n",
       "      <th></th>\n",
       "    </tr>\n",
       "  </thead>\n",
       "  <tbody>\n",
       "    <tr>\n",
       "      <th>'tips'</th>\n",
       "      <td>Column dropped</td>\n",
       "      <td>Column is completely missing</td>\n",
       "    </tr>\n",
       "  </tbody>\n",
       "</table>\n",
       "</div>"
      ],
      "text/plain": [
       "             Anomaly short description      Anomaly long description\n",
       "Feature name                                                        \n",
       "'tips'                  Column dropped  Column is completely missing"
      ]
     },
     "metadata": {},
     "output_type": "display_data"
    }
   ],
   "source": [
    "options = tfdv.StatsOptions(schema=schema, infer_type_from_schema=True)\n",
    "serving_stats = tfdv.generate_statistics_from_csv(SERVING_DATA, stats_options=options)\n",
    "serving_anomalies = tfdv.validate_statistics(serving_stats, schema)\n",
    "\n",
    "tfdv.display_anomalies(serving_anomalies)"
   ]
  },
  {
   "cell_type": "markdown",
   "metadata": {
    "id": "bJjh5rigc5xy"
   },
   "source": [
    "Now we just have the `tips` feature (which is our label) showing up as an anomaly ('Column dropped').  Of course we don't expect to have labels in our serving data, so let's tell TFDV to ignore that."
   ]
  },
  {
   "cell_type": "code",
   "execution_count": 12,
   "metadata": {
    "id": "bnbnw8H6Lp2M"
   },
   "outputs": [
    {
     "data": {
      "text/html": [
       "<h4 style=\"color:green;\">No anomalies found.</h4>"
      ],
      "text/plain": [
       "<IPython.core.display.HTML object>"
      ]
     },
     "metadata": {},
     "output_type": "display_data"
    }
   ],
   "source": [
    "# All features are by default in both TRAINING and SERVING environments.\n",
    "schema.default_environment.append('TRAINING')\n",
    "schema.default_environment.append('SERVING')\n",
    "\n",
    "# Specify that 'tips' feature is not in SERVING environment.\n",
    "tfdv.get_feature(schema, 'tips').not_in_environment.append('SERVING')\n",
    "\n",
    "serving_anomalies_with_env = tfdv.validate_statistics(\n",
    "    serving_stats, schema, environment='SERVING')\n",
    "\n",
    "tfdv.display_anomalies(serving_anomalies_with_env)"
   ]
  },
  {
   "cell_type": "markdown",
   "metadata": {
    "id": "yteMr3AGMYEp"
   },
   "source": [
    "## Check for drift and skew"
   ]
  },
  {
   "cell_type": "markdown",
   "metadata": {
    "id": "8Ftd5k6AMkPV"
   },
   "source": [
    "In addition to checking whether a dataset conforms to the expectations set in the schema, TFDV also provides functionalities to detect drift and skew.  TFDV performs this check by comparing the statistics of the different datasets based on the drift/skew comparators specified in the schema.\n",
    "\n",
    "### Drift\n",
    "\n",
    "Drift detection is supported for categorical features and between consecutive spans of data (i.e., between span N and span N+1), such as between different days of training data.  We express drift in terms of [L-infinity distance](https://en.wikipedia.org/wiki/Chebyshev_distance), and you can set the threshold distance so that you receive warnings when the drift is higher than is acceptable.  Setting the correct distance is typically an iterative process requiring domain knowledge and experimentation."
   ]
  },
  {
   "cell_type": "markdown",
   "metadata": {
    "id": "eBFuLpXb6qSp"
   },
   "source": [
    "### Skew\n",
    "\n",
    "TFDV can detect three different kinds of skew in your data - schema skew, feature skew, and distribution skew.\n",
    "\n",
    "#### Schema Skew\n",
    "\n",
    "Schema skew occurs when the training and serving data do not conform to the same schema. Both training and serving data are expected to adhere to the same schema. Any expected deviations between the two (such as the label feature being only present in the training data but not in serving) should be specified through environments field in the schema.\n",
    "\n",
    "#### Feature Skew\n",
    "\n",
    "Feature skew occurs when the feature values that a model trains on are different from the feature values that it sees at serving time. For example, this can happen when:\n",
    "\n",
    "* A data source that provides some feature values is modified between training and serving time\n",
    "* There is different logic for generating features between training and serving. For example, if you apply some transformation only in one of the two code paths.\n",
    "\n",
    "#### Distribution Skew\n",
    "\n",
    "Distribution skew occurs when the distribution of the training dataset is significantly different from the distribution of the serving dataset. One of the key causes for distribution skew is using different code or different data sources to generate the training dataset. Another reason is a faulty sampling mechanism that chooses a non-representative subsample of the serving data to train on."
   ]
  },
  {
   "cell_type": "code",
   "execution_count": null,
   "metadata": {
    "id": "wEUsZm_rOd1Q"
   },
   "outputs": [],
   "source": [
    "# Add skew comparator for 'payment_type' feature.\n",
    "payment_type = tfdv.get_feature(schema, 'payment_type')\n",
    "payment_type.skew_comparator.infinity_norm.threshold = 0.01\n",
    "\n",
    "# Add drift comparator for 'company' feature.\n",
    "company=tfdv.get_feature(schema, 'company')\n",
    "company.drift_comparator.infinity_norm.threshold = 0.001\n",
    "\n",
    "# TODO: Your code goes here\n",
    "\n",
    "tfdv.display_anomalies(skew_anomalies)"
   ]
  },
  {
   "cell_type": "markdown",
   "metadata": {
    "id": "1GzbbsPgf0Bg"
   },
   "source": [
    "In this example we do see some drift, but it is well below the threshold that we've set."
   ]
  },
  {
   "cell_type": "markdown",
   "metadata": {
    "id": "wJ5saC9eWvHx"
   },
   "source": [
    "## Freeze the schema\n",
    "\n",
    "Now that the schema has been reviewed and curated, we will store it in a file to reflect its \"frozen\" state."
   ]
  },
  {
   "cell_type": "code",
   "execution_count": null,
   "metadata": {
    "id": "ydkL4DkIWn18"
   },
   "outputs": [],
   "source": [
    "from tensorflow.python.lib.io import file_io\n",
    "from google.protobuf import text_format\n",
    "\n",
    "file_io.recursive_create_dir(OUTPUT_DIR)\n",
    "schema_file = os.path.join(OUTPUT_DIR, 'schema.pbtxt')\n",
    "tfdv.write_schema_text(schema, schema_file)\n",
    "\n",
    "!cat {schema_file}"
   ]
  },
  {
   "cell_type": "markdown",
   "metadata": {
    "id": "b8eC59yISdGB"
   },
   "source": [
    "## When to use TFDV\n",
    "\n",
    "It's easy to think of TFDV as only applying to the start of your training pipeline, as we did here, but in fact it has many uses.  Here are a few more:\n",
    "\n",
    "* Validating new data for inference to make sure that we haven't suddenly started receiving bad features\n",
    "* Validating new data for inference to make sure that our model has trained on that part of the decision surface\n",
    "* Validating our data after we've transformed it and done feature engineering (probably using [TensorFlow Transform](https://www.tensorflow.org/tfx/guide/transform)) to make sure we haven't done something wrong"
   ]
  }
 ],
 "metadata": {
  "colab": {
   "collapsed_sections": [
    "tghWegsjhpkt"
   ],
   "name": "tfdv_basic.ipynb",
   "private_outputs": true,
   "provenance": [],
   "toc_visible": true
  },
  "environment": {
   "kernel": "python3",
   "name": "tf2-gpu.2-6.m111",
   "type": "gcloud",
   "uri": "gcr.io/deeplearning-platform-release/tf2-gpu.2-6:m111"
  },
  "kernelspec": {
   "display_name": "Python 3",
   "language": "python",
   "name": "python3"
  },
  "language_info": {
   "codemirror_mode": {
    "name": "ipython",
    "version": 3
   },
   "file_extension": ".py",
   "mimetype": "text/x-python",
   "name": "python",
   "nbconvert_exporter": "python",
   "pygments_lexer": "ipython3",
   "version": "3.9.17"
  }
 },
 "nbformat": 4,
 "nbformat_minor": 4
}
