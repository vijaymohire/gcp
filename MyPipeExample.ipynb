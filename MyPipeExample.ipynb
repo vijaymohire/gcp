{
 "cells": [
  {
   "cell_type": "code",
   "execution_count": 13,
   "id": "d7563e87",
   "metadata": {},
   "outputs": [],
   "source": [
    "from typing import NamedTuple\n",
    "\n",
    "from kfp import dsl\n",
    "from kfp.v2 import compiler\n",
    "from kfp.v2.dsl import component\n",
    "from kfp.v2.google.client import AIPlatformClient\n"
   ]
  },
  {
   "cell_type": "code",
   "execution_count": 14,
   "id": "94856c29",
   "metadata": {},
   "outputs": [
    {
     "name": "stdout",
     "output_type": "stream",
     "text": [
      "Project ID:  vijaymohireproject\n"
     ]
    }
   ],
   "source": [
    "import os\n",
    "\n",
    "PROJECT_ID = \"\"\n",
    "\n",
    "# Get your Google Cloud project ID from gcloud\n",
    "if not os.getenv(\"IS_TESTING\"):\n",
    "    shell_output=!gcloud config list --format 'value(core.project)' 2>/dev/null\n",
    "    PROJECT_ID = shell_output[0]\n",
    "    print(\"Project ID: \", PROJECT_ID)"
   ]
  },
  {
   "cell_type": "code",
   "execution_count": 15,
   "id": "115aa66c",
   "metadata": {},
   "outputs": [],
   "source": [
    "from datetime import datetime\n",
    "\n",
    "TIMESTAMP = datetime.now().strftime(\"%Y%m%d%H%M%S\")"
   ]
  },
  {
   "cell_type": "code",
   "execution_count": 16,
   "id": "d4a12d4c",
   "metadata": {},
   "outputs": [],
   "source": [
    "BUCKET_NAME = \"gs://vijaymohire_vertex_bucket\"  # @param {type:\"string\"}\n",
    "REGION = \"us-central1\"  # @param {type:\"string\"}"
   ]
  },
  {
   "cell_type": "code",
   "execution_count": 17,
   "id": "ade0bda1",
   "metadata": {},
   "outputs": [
    {
     "name": "stdout",
     "output_type": "stream",
     "text": [
      "         9  2021-08-13T08:04:43Z  gs://vijaymohire_vertex_bucket/Test.txt#1628841883110934  metageneration=1\n",
      "TOTAL: 1 objects, 9 bytes (9 B)\n"
     ]
    }
   ],
   "source": [
    "!gsutil ls -al $BUCKET_NAME"
   ]
  },
  {
   "cell_type": "code",
   "execution_count": 26,
   "id": "15557ed5",
   "metadata": {},
   "outputs": [
    {
     "name": "stdout",
     "output_type": "stream",
     "text": [
      "Creating gs://vijaymohire_vertex_bucket_new/...\n",
      "AccessDeniedException: 403 vertexservice@vijaymohireproject.iam.gserviceaccount.com does not have storage.buckets.create access to the Google Cloud project.\n"
     ]
    }
   ],
   "source": [
    "#! gsutil mb -l $REGION $BUCKET_NAME\n"
   ]
  },
  {
   "cell_type": "code",
   "execution_count": 18,
   "id": "ab0cd543",
   "metadata": {},
   "outputs": [],
   "source": [
    "@component(output_component_file=\"hw.yaml\", base_image=\"python:3.9\")\n",
    "def hello_world(text: str) -> str:\n",
    "    print(text)\n",
    "    return text"
   ]
  },
  {
   "cell_type": "code",
   "execution_count": 19,
   "id": "051b391e",
   "metadata": {},
   "outputs": [],
   "source": [
    "@component(packages_to_install=[\"google-cloud-storage\"])\n",
    "def two_outputs(\n",
    "    text: str,\n",
    ") -> NamedTuple(\n",
    "    \"Outputs\",\n",
    "    [\n",
    "        (\"output_one\", str),  # Return parameters\n",
    "        (\"output_two\", str),\n",
    "    ],\n",
    "):\n",
    "    # the import is not actually used for this simple example, but the import\n",
    "    # is successful, as it was included in the `packages_to_install` list.\n",
    "    from google.cloud import storage  # noqa: F401\n",
    "\n",
    "    o1 = f\"output one from text: {text}\"\n",
    "    o2 = f\"output two from text: {text}\"\n",
    "    print(\"output one: {}; output_two: {}\".format(o1, o2))\n",
    "    return (o1, o2)\n",
    "\n",
    "\n",
    "@component\n",
    "def consumer(text1: str, text2: str, text3: str):\n",
    "    print(f\"text1: {text1}; text2: {text2}; text3: {text3}\")"
   ]
  },
  {
   "cell_type": "code",
   "execution_count": 30,
   "id": "4df902cf",
   "metadata": {},
   "outputs": [],
   "source": [
    "#USER = \"vijaymohire\"  # <---CHANGE THIS\n",
    "#PIPELINE_ROOT = \"{}/pipeline_root/{}\".format('vijaymohire_vertex_bucket', 'vijaymohire') \n",
    "PIPELINE_ROOT = 'gs://vijaymohire_vertex_bucket'"
   ]
  },
  {
   "cell_type": "code",
   "execution_count": 31,
   "id": "c5e7ed58",
   "metadata": {},
   "outputs": [],
   "source": [
    "@dsl.pipeline(\n",
    "    name=\"hello-world-v2\",\n",
    "    description=\"A simple intro pipeline\",\n",
    "    pipeline_root=PIPELINE_ROOT,\n",
    ")\n",
    "def intro_pipeline(text: str = \"hi there\"):\n",
    "    hw_task = hello_world(text)\n",
    "    two_outputs_task = two_outputs(text)\n",
    "    consumer_task = consumer(  # noqa: F841\n",
    "        hw_task.output,\n",
    "        two_outputs_task.outputs[\"output_one\"],\n",
    "        two_outputs_task.outputs[\"output_two\"],\n",
    "    )"
   ]
  },
  {
   "cell_type": "code",
   "execution_count": 32,
   "id": "cac7e4b7",
   "metadata": {},
   "outputs": [],
   "source": [
    "from kfp.v2 import compiler  # noqa: F811\n",
    "\n",
    "compiler.Compiler().compile(\n",
    "    pipeline_func=intro_pipeline, package_path=\"hw_pipeline_job.json\"\n",
    ")"
   ]
  },
  {
   "cell_type": "code",
   "execution_count": 33,
   "id": "71936147",
   "metadata": {},
   "outputs": [],
   "source": [
    "from kfp.v2.google.client import AIPlatformClient  # noqa: F811\n",
    "\n",
    "api_client = AIPlatformClient(\n",
    "    project_id='vijaymohireproject',\n",
    "    region='uscentral1',\n",
    ")"
   ]
  },
  {
   "cell_type": "code",
   "execution_count": 28,
   "id": "84cc7687",
   "metadata": {},
   "outputs": [
    {
     "data": {
      "text/plain": [
       "'gs://vijaymohire_vertex_bucket'"
      ]
     },
     "execution_count": 28,
     "metadata": {},
     "output_type": "execute_result"
    }
   ],
   "source": [
    "USER = \"vijaymohire\"  # <---CHANGE THIS\n",
    "#PIPELINE_ROOT = \"{}/pipeline_root/{}\".format(BUCKET_NAME, USER)\n",
    "PIPELINE_ROOT = 'gs://vijaymohire_vertex_bucket'\n",
    "PIPELINE_ROOT"
   ]
  },
  {
   "cell_type": "code",
   "execution_count": 35,
   "id": "d92de351",
   "metadata": {},
   "outputs": [],
   "source": [
    "# RUN has been designed in Vertex AI Pipeline RUN \n",
    "#response = api_client.create_run_from_job_spec(\n",
    "#    job_spec_path=\"hw_pipeline_job.json\",\n",
    " #   pipeline_root=PIPELINE_ROOT,  # this argument is necessary if you did not specify PIPELINE_ROOT as part of the pipeline definition.\n",
    "  #  parameter_values={\n",
    "   #     'gcs_output_directory': 1\n",
    "   # }\n",
    " #   )"
   ]
  },
  {
   "cell_type": "code",
   "execution_count": null,
   "id": "6333a61b",
   "metadata": {},
   "outputs": [],
   "source": [
    "# Copyright 2020 Google \n",
    "#This code is licensed under the Apache License, Version 2.0. You may obtain a copy of this license in the LICENSE.txt file in the root directory of this source tree or at http://www.apache.org/licenses/LICENSE-2.0.\n",
    "#Program executed by Bhadale IT in Google JupyterLab (https://www.bhadaleit.com).\n",
    "#For more details on the code and tutorials visit Vertex AI website "
   ]
  }
 ],
 "metadata": {
  "environment": {
   "name": "common-cpu.m76",
   "type": "gcloud",
   "uri": "gcr.io/deeplearning-platform-release/base-cpu:m76"
  },
  "kernelspec": {
   "display_name": "Python 3",
   "language": "python",
   "name": "python3"
  },
  "language_info": {
   "codemirror_mode": {
    "name": "ipython",
    "version": 3
   },
   "file_extension": ".py",
   "mimetype": "text/x-python",
   "name": "python",
   "nbconvert_exporter": "python",
   "pygments_lexer": "ipython3",
   "version": "3.7.10"
  }
 },
 "nbformat": 4,
 "nbformat_minor": 5
}
